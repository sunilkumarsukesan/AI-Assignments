{
 "cells": [
  {
   "cell_type": "code",
   "execution_count": 5,
   "id": "41ebd022-5e47-4b7e-97ea-247652821e17",
   "metadata": {},
   "outputs": [
    {
     "name": "stdout",
     "output_type": "stream",
     "text": [
      "     Name  Expereince in Years\n",
      "0    Alex                   10\n",
      "1  Sabari                   15\n",
      "2    Syed                   14\n"
     ]
    }
   ],
   "source": [
    "import numpy as np\n",
    "import pandas as pd\n",
    "\n",
    "# initialize list of lists\n",
    "data = [['Alex', 10], ['Sabari', 15], ['Syed', 14]]\n",
    "empdf = pd. DataFrame(data, columns=['Name', 'Expereince in Years' ])\n",
    "print(empdf)"
   ]
  },
  {
   "cell_type": "code",
   "execution_count": 59,
   "id": "71b8dd11-d56d-4292-a208-e7c5960c150d",
   "metadata": {},
   "outputs": [
    {
     "name": "stdout",
     "output_type": "stream",
     "text": [
      "   Col1  Col2  Col3\n",
      "0    10    20    30\n",
      "   Col1  Col2  Col3    Col4\n",
      "0    10    20    30     NaN\n",
      "1   100   200   300     NaN\n",
      "2  1000  2000  3000  4000.0\n"
     ]
    }
   ],
   "source": [
    "# create datafram from array values\n",
    "\n",
    "nparray1 = np.array([10, 20 ,30])\n",
    "nparray2 = np.array([100, 200 ,300])\n",
    "nparray3 = np.array([1000, 2000 ,3000, 4000])\n",
    "df= pd.DataFrame([nparray1], columns = [\"Col1\", \"Col2\", \"Col3\"])\n",
    "print (df)\n",
    "df1 = pd.DataFrame([nparray1, nparray2, nparray3], columns = [\"Col1\", \"Col2\", \"Col3\", \"Col4\"])\n",
    "print (df1)"
   ]
  },
  {
   "cell_type": "code",
   "execution_count": 36,
   "id": "6e71e2c7-cfc9-4e71-bfbd-855a57802ead",
   "metadata": {},
   "outputs": [
    {
     "name": "stdout",
     "output_type": "stream",
     "text": [
      "   Sunil  Kumar  Test\n",
      "0     10     20  30.0\n",
      "1     10     20   NaN\n"
     ]
    }
   ],
   "source": [
    "# create datafram from dictionary values\n",
    "\n",
    "dict_data = [{\"Sunil\" : 10 , \"Kumar\" : 20, \"Test\": 30} , {\"Sunil\" : 10 , \"Kumar\" : 20, \"Test\": 30}]\n",
    "df2 = pd.DataFrame(dict_data, columns = [\"Col1\", \"Col2\"])\n",
    "print (df2)"
   ]
  },
  {
   "cell_type": "code",
   "execution_count": 30,
   "id": "a75f6d29-4dce-4e64-b5de-ae6ebe9609fe",
   "metadata": {},
   "outputs": [
    {
     "name": "stdout",
     "output_type": "stream",
     "text": [
      "    State  GArea      VDF\n",
      "0   Assam  78438  2797.00\n",
      "1   Delhi   1483     6.72\n",
      "2  Kerala  38852  1663.00\n"
     ]
    }
   ],
   "source": [
    "#Creation of DataFrame from Dictionary of Lists\n",
    "dictState = {'State' : ['Assam', 'Delhi', 'Kerala'], 'GArea': [78438, 1483, 38852] ,\n",
    "'VDF' : [2797, 6.72,1663]}\n",
    "dFrameState = pd. DataFrame(dictState)\n",
    "print(dFrameState)"
   ]
  },
  {
   "cell_type": "code",
   "execution_count": 84,
   "id": "de6e60eb-1a5d-46ae-bfec-41bd48ca2f17",
   "metadata": {},
   "outputs": [
    {
     "name": "stdout",
     "output_type": "stream",
     "text": [
      "EmployeeClusterA    1000\n",
      "EmployeeClusterB    2000\n",
      "EmployeeClusterC    3000\n",
      "dtype: int64\n",
      "EmployeeClusterA    4000\n",
      "EmployeeClusterB    5000\n",
      "EmployeeClusterC    6000\n",
      "dtype: int64\n",
      "   EmployeeClusterA  EmployeeClusterB  EmployeeClusterC\n",
      "0              1000              2000              3000\n",
      "1              4000              5000              6000\n"
     ]
    }
   ],
   "source": [
    "#Creation of DataFrame Using Series but as list\n",
    "seriesA = pd.Series ([1000,2000,3000], index = ['EmployeeClusterA' , 'EmployeeClusterB', 'EmployeeClusterC' ])\n",
    "seriesB = pd.Series ([4000,5000,6000], index = ['EmployeeClusterA' , 'EmployeeClusterB', 'EmployeeClusterC' ])\n",
    "print(seriesA)\n",
    "print(seriesB)\n",
    "dFrame7 = pd.DataFrame([seriesA, seriesB])\n",
    "print(dFrame7)"
   ]
  },
  {
   "cell_type": "code",
   "execution_count": 83,
   "id": "b44d717a-5a2c-4e98-b216-8888ce1661e2",
   "metadata": {},
   "outputs": [
    {
     "name": "stdout",
     "output_type": "stream",
     "text": [
      "                  SeriesA  SeriesB\n",
      "EmployeeClusterA     1000     4000\n",
      "EmployeeClusterB     2000     5000\n",
      "EmployeeClusterC     3000     6000\n"
     ]
    }
   ],
   "source": [
    "\n",
    "#Creation of DataFrame Using Series but as dictionary\n",
    "dFrame7 = pd.DataFrame({'SeriesA': seriesA, 'SeriesB': seriesB})\n",
    "print(dFrame7)"
   ]
  },
  {
   "cell_type": "code",
   "execution_count": 60,
   "id": "1b10c6be-f462-444e-8090-4d08b55ee0ed",
   "metadata": {},
   "outputs": [
    {
     "data": {
      "text/plain": [
       "EmpClusterA         1000\n",
       "EmployeeClusterB    2000\n",
       "EmployeeClusterC    3000\n",
       "dtype: int64"
      ]
     },
     "execution_count": 60,
     "metadata": {},
     "output_type": "execute_result"
    }
   ],
   "source": [
    " pd.Series ([1000,2000,3000], index = ['EmpClusterA' , 'EmployeeClusterB', 'EmployeeClusterC' ])"
   ]
  },
  {
   "cell_type": "code",
   "execution_count": 52,
   "id": "151b6670-5c93-416a-b960-ec30fc5f3016",
   "metadata": {},
   "outputs": [
    {
     "name": "stdout",
     "output_type": "stream",
     "text": [
      "        Alex  Steve  Ram\n",
      "NMS_TC    90     80  100\n",
      "OTN_TC    91     50  150\n",
      "WDM_TC    97    100  200\n",
      "        Alex  Steve  Ram\n",
      "NMS_TC    90     80  100\n",
      "OTN_TC    91     50  150\n",
      "WDM_TC    97    100  200\n",
      "UI_TC     85     86   83\n",
      "        Alex  Steve  Ram\n",
      "NMS_TC    95     96   93\n",
      "OTN_TC    91     50  150\n",
      "WDM_TC    97    100  200\n",
      "UI_TC     85     86   83\n",
      "        Alex  Steve  Ram\n",
      "NMS_TC    95     96   93\n",
      "OTN_TC    91     50  150\n",
      "WDM_TC    97    100  200\n",
      "UI_TC     85     86   83\n",
      "        Alex  Steve  Ram\n",
      "NMS_TC    95     96   93\n",
      "OTN_TC    91     50  150\n",
      "UI_TC     85     86   83\n",
      "        Alex  Steve  Ram  Test\n",
      "NMS_TC    95     96   93   100\n",
      "OTN_TC    91     50  150   100\n",
      "WDM_TC    97    100  200   100\n",
      "UI_TC     85     86   83   100\n"
     ]
    }
   ],
   "source": [
    "#Creation of DataFrame from Dictionary of Series\n",
    "TestSheet={ 'Alex': pd.Series([90, 91, 97], index=['NMS_TC','OTN_TC','WDM_TC']),\n",
    "'Steve': pd.Series([80, 50, 100], index=['NMS_TC', 'OTN_TC' , 'WDM_TC']),\n",
    "'Ram': pd.Series([100, 150, 200], index=['NMS_TC', 'OTN_TC' , 'WDM_TC' ])}\n",
    "\n",
    "TestResultDF = pd.DataFrame(TestSheet)\n",
    "TestResultDF1=pd.DataFrame()\n",
    "print(TestResultDF)\n",
    "#Adding Row\n",
    "TestResultDF.loc['UI_TC'] = [85, 86, 83]\n",
    "print(TestResultDF)\n",
    "TestResultDF.loc['NMS_TC'] = [95, 96, 93]\n",
    "print(TestResultDF)\n",
    "#Removing a Row\n",
    "TestResultDF1 = TestResultDF.drop('WDM_TC', axis=0)\n",
    "print(TestResultDF)\n",
    "print(TestResultDF1)\n",
    "\n",
    "TestResultDF['Test'] = 100\n",
    "print(TestResultDF)"
   ]
  },
  {
   "cell_type": "code",
   "execution_count": 90,
   "id": "0d6d563e-0ca4-4ab8-a647-9726b2a227a9",
   "metadata": {},
   "outputs": [
    {
     "name": "stdout",
     "output_type": "stream",
     "text": [
      "Original DataFrame:\n",
      "  Category  Cohort1  Cohort2\n",
      "0       AI       10        5\n",
      "1   Pandas       15        7\n",
      "2       AI       12        6\n",
      "3      EDA        8        4\n",
      "4   Pandas       20        8\n",
      "5       AI       11        5\n",
      "6      EDA        9        4\n"
     ]
    }
   ],
   "source": [
    "# Create a sample DataFrame\n",
    "data = {\n",
    "'Category' : ['AI', 'Pandas', 'AI' , 'EDA', 'Pandas', 'AI', 'EDA'],\n",
    "'Cohort1': [10, 15, 12, 8, 20, 11, 9],\n",
    "'Cohort2': [5, 7, 6, 4, 8, 5, 4]}\n",
    "df = pd.DataFrame(data)\n",
    "\n",
    "print(\"Original DataFrame:\")\n",
    "print(df)\n"
   ]
  },
  {
   "cell_type": "code",
   "execution_count": 107,
   "id": "aae6263d-47ce-4a07-a075-6a14194f6f54",
   "metadata": {},
   "outputs": [
    {
     "name": "stdout",
     "output_type": "stream",
     "text": [
      "          totalcohort\n",
      "Category             \n",
      "AI                 33\n",
      "EDA                17\n",
      "Pandas             35\n"
     ]
    }
   ],
   "source": [
    "groupeddf = df.groupby('Category').agg(totalcohort = ('Cohort1','sum'))\n",
    "print (groupeddf)"
   ]
  },
  {
   "cell_type": "code",
   "execution_count": null,
   "id": "0d72c578-3fd2-415b-b77d-e47f0522e3b8",
   "metadata": {},
   "outputs": [],
   "source": []
  }
 ],
 "metadata": {
  "kernelspec": {
   "display_name": "Python 3 (ipykernel)",
   "language": "python",
   "name": "python3"
  },
  "language_info": {
   "codemirror_mode": {
    "name": "ipython",
    "version": 3
   },
   "file_extension": ".py",
   "mimetype": "text/x-python",
   "name": "python",
   "nbconvert_exporter": "python",
   "pygments_lexer": "ipython3",
   "version": "3.13.4"
  }
 },
 "nbformat": 4,
 "nbformat_minor": 5
}
