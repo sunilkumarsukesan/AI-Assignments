{
 "cells": [
  {
   "cell_type": "code",
   "execution_count": 6,
   "id": "57c813df-f67d-410c-8156-1dbd209400c7",
   "metadata": {},
   "outputs": [
    {
     "name": "stdout",
     "output_type": "stream",
     "text": [
      "    0   1   2\n",
      "0  10  20  30\n",
      "1  30  40  50\n"
     ]
    }
   ],
   "source": [
    "import numpy as np\n",
    "import pandas as pd\n",
    "\n",
    "array1 = np.array([10, 20, 30])\n",
    "array2 = np.array([30, 40, 50])\n",
    "\n",
    "df = pd.DataFrame([array1,array2])\n",
    "print (df)"
   ]
  },
  {
   "cell_type": "code",
   "execution_count": 7,
   "id": "6f35668d-e4ee-45ca-9e1f-ebebcf9169a7",
   "metadata": {},
   "outputs": [
    {
     "name": "stdout",
     "output_type": "stream",
     "text": [
      "       0      1      2\n",
      "0  100.0  200.0  300.0\n",
      "1  400.0  500.0    NaN\n"
     ]
    }
   ],
   "source": [
    "series1 = pd.Series([100,200,300])\n",
    "series2 = pd.Series([400,500])\n",
    "\n",
    "df1 = pd.DataFrame([series1,series2])\n",
    "print (df1)"
   ]
  },
  {
   "cell_type": "code",
   "execution_count": 13,
   "id": "253744aa-e8a3-4a5e-adb6-fcc9ed1f6df9",
   "metadata": {},
   "outputs": [
    {
     "name": "stdout",
     "output_type": "stream",
     "text": [
      "   Mani  Alex\n",
      "0    10    20\n",
      "1    20    30\n",
      "2    30    60\n"
     ]
    }
   ],
   "source": [
    "dict_Data = {'Mani' : [10,20,30], 'Alex' : [20,30,60]}\n",
    "df2 = pd.DataFrame(dict_Data)\n",
    "print (df2)"
   ]
  },
  {
   "cell_type": "code",
   "execution_count": 15,
   "id": "0af0a370-729b-4162-91f1-fd98f31984cd",
   "metadata": {},
   "outputs": [
    {
     "name": "stdout",
     "output_type": "stream",
     "text": [
      "  TestCase   Module  Status  Duration\n",
      "0      TC1    Login  Passed        12\n",
      "1      TC2    Login  Failed        15\n",
      "2      TC3  Payment  Passed        20\n",
      "3      TC4  Payment  Failed        18\n",
      "4      TC5  Reports  Passed        25\n",
      "5      TC6  Reports  Passed        22\n"
     ]
    }
   ],
   "source": [
    "\"\"\"\n",
    "1. Creates a DataFrame:\n",
    "TestCase Module Status Duration\n",
    "TC1 Login Passed 12\n",
    "TC2 Login Failed 15\n",
    "TC3 Payment Passed 20\n",
    "TC4 Payment Failed 18\n",
    "TC5 Reports Passed 25\n",
    "TC6 Reports Passed 22\n",
    "\"\"\"\n",
    "test_cases = [\n",
    "    ['TC1', 'Login',  'Passed', 12],\n",
    "    ['TC2', 'Login',  'Failed', 15],\n",
    "    ['TC3', 'Payment','Passed', 20],\n",
    "    ['TC4', 'Payment','Failed', 18],\n",
    "    ['TC5', 'Reports','Passed', 25],\n",
    "    ['TC6', 'Reports','Passed', 22]\n",
    "]\n",
    "df3 = pd.DataFrame(test_cases, columns = ['TestCase', 'Module', 'Status', 'Duration'])\n",
    "print (df3)"
   ]
  },
  {
   "cell_type": "code",
   "execution_count": null,
   "id": "dc2c030c-aca6-4c50-a98b-f8d034be5d45",
   "metadata": {},
   "outputs": [
    {
     "data": {
      "text/plain": [
       "Status\n",
       "Failed    2\n",
       "Passed    4\n",
       "Name: Module, dtype: int64"
      ]
     },
     "execution_count": 47,
     "metadata": {},
     "output_type": "execute_result"
    }
   ],
   "source": [
    "#2. Groups by Status and counts Passed vs Failed.\n",
    "\n",
    "df3.groupby('Status')"
   ]
  },
  {
   "cell_type": "code",
   "execution_count": 43,
   "id": "8f954315-5095-4d59-a820-94b10fd4b0c0",
   "metadata": {},
   "outputs": [
    {
     "data": {
      "text/plain": [
       "Module\n",
       "Login      13.5\n",
       "Payment    19.0\n",
       "Reports    23.5\n",
       "Name: Duration, dtype: float64"
      ]
     },
     "execution_count": 43,
     "metadata": {},
     "output_type": "execute_result"
    }
   ],
   "source": [
    "#3. Groups by Module and finds average Duration per module.\n",
    "\n",
    "df3.groupby('Module') ['Duration'].mean()"
   ]
  },
  {
   "cell_type": "code",
   "execution_count": 29,
   "id": "de3a8339-aa71-496a-88c5-53e7a86aa0c6",
   "metadata": {},
   "outputs": [
    {
     "name": "stdout",
     "output_type": "stream",
     "text": [
      "  DefectID   Module Severity  Status\n",
      "0       D1    Login     High    Open\n",
      "1       D2  Payment   Medium  Closed\n",
      "2       D3  Reports      Low    Open\n",
      "3       D4    Login     High  Closed\n",
      "4       D5  Payment   Medium    Open\n"
     ]
    }
   ],
   "source": [
    "\"\"\"\n",
    "1. Creates a DataFrame with defect details:\n",
    "DefectID Module Severity Status\n",
    "D1 Login High Open\n",
    "D2 Payment Medium Closed\n",
    "D3 Reports Low Open\n",
    "D4 Login High Closed\n",
    "D5 Payment Medium Open\n",
    "\"\"\"\n",
    "defects = [\n",
    "    ['D1', 'Login',   'High',   'Open'],\n",
    "    ['D2', 'Payment', 'Medium', 'Closed'],\n",
    "    ['D3', 'Reports', 'Low',    'Open'],\n",
    "    ['D4', 'Login',   'High',   'Closed'],\n",
    "    ['D5', 'Payment', 'Medium', 'Open']\n",
    "]\n",
    "df4 = pd.DataFrame(defects, columns = ['DefectID', 'Module', 'Severity', 'Status'])\n",
    "print (df4)"
   ]
  },
  {
   "cell_type": "code",
   "execution_count": 36,
   "id": "9a1b7677-f883-4d70-bb24-7554e035a572",
   "metadata": {},
   "outputs": [
    {
     "data": {
      "text/html": [
       "<div>\n",
       "<style scoped>\n",
       "    .dataframe tbody tr th:only-of-type {\n",
       "        vertical-align: middle;\n",
       "    }\n",
       "\n",
       "    .dataframe tbody tr th {\n",
       "        vertical-align: top;\n",
       "    }\n",
       "\n",
       "    .dataframe thead th {\n",
       "        text-align: right;\n",
       "    }\n",
       "</style>\n",
       "<table border=\"1\" class=\"dataframe\">\n",
       "  <thead>\n",
       "    <tr style=\"text-align: right;\">\n",
       "      <th></th>\n",
       "      <th>DefectID</th>\n",
       "      <th>Module</th>\n",
       "      <th>Severity</th>\n",
       "      <th>Status</th>\n",
       "    </tr>\n",
       "  </thead>\n",
       "  <tbody>\n",
       "    <tr>\n",
       "      <th>0</th>\n",
       "      <td>D1</td>\n",
       "      <td>Login</td>\n",
       "      <td>High</td>\n",
       "      <td>Open</td>\n",
       "    </tr>\n",
       "    <tr>\n",
       "      <th>2</th>\n",
       "      <td>D3</td>\n",
       "      <td>Reports</td>\n",
       "      <td>Low</td>\n",
       "      <td>Open</td>\n",
       "    </tr>\n",
       "    <tr>\n",
       "      <th>4</th>\n",
       "      <td>D5</td>\n",
       "      <td>Payment</td>\n",
       "      <td>Medium</td>\n",
       "      <td>Open</td>\n",
       "    </tr>\n",
       "  </tbody>\n",
       "</table>\n",
       "</div>"
      ],
      "text/plain": [
       "  DefectID   Module Severity Status\n",
       "0       D1    Login     High   Open\n",
       "2       D3  Reports      Low   Open\n",
       "4       D5  Payment   Medium   Open"
      ]
     },
     "execution_count": 36,
     "metadata": {},
     "output_type": "execute_result"
    }
   ],
   "source": [
    "#2. Prints all Open defects.\n",
    "\n",
    "df4[df4['Status']=='Open']"
   ]
  },
  {
   "cell_type": "code",
   "execution_count": 42,
   "id": "16d893c1-e403-4997-bb0f-68f0d3e94940",
   "metadata": {},
   "outputs": [
    {
     "data": {
      "text/html": [
       "<div>\n",
       "<style scoped>\n",
       "    .dataframe tbody tr th:only-of-type {\n",
       "        vertical-align: middle;\n",
       "    }\n",
       "\n",
       "    .dataframe tbody tr th {\n",
       "        vertical-align: top;\n",
       "    }\n",
       "\n",
       "    .dataframe thead th {\n",
       "        text-align: right;\n",
       "    }\n",
       "</style>\n",
       "<table border=\"1\" class=\"dataframe\">\n",
       "  <thead>\n",
       "    <tr style=\"text-align: right;\">\n",
       "      <th></th>\n",
       "      <th>DefectID</th>\n",
       "      <th>Module</th>\n",
       "      <th>Severity</th>\n",
       "      <th>Status</th>\n",
       "    </tr>\n",
       "  </thead>\n",
       "  <tbody>\n",
       "    <tr>\n",
       "      <th>0</th>\n",
       "      <td>D1</td>\n",
       "      <td>Login</td>\n",
       "      <td>High</td>\n",
       "      <td>Open</td>\n",
       "    </tr>\n",
       "    <tr>\n",
       "      <th>3</th>\n",
       "      <td>D4</td>\n",
       "      <td>Login</td>\n",
       "      <td>High</td>\n",
       "      <td>Closed</td>\n",
       "    </tr>\n",
       "  </tbody>\n",
       "</table>\n",
       "</div>"
      ],
      "text/plain": [
       "  DefectID Module Severity  Status\n",
       "0       D1  Login     High    Open\n",
       "3       D4  Login     High  Closed"
      ]
     },
     "execution_count": 42,
     "metadata": {},
     "output_type": "execute_result"
    }
   ],
   "source": [
    "#3. Prints all High severity defects.\n",
    "\n",
    "df4[df4['Severity']=='High']"
   ]
  },
  {
   "cell_type": "code",
   "execution_count": 40,
   "id": "9b1f061d-56ec-41cc-91a1-692fed1cd1a7",
   "metadata": {},
   "outputs": [
    {
     "data": {
      "text/plain": [
       "Status\n",
       "Closed    2\n",
       "Open      3\n",
       "Name: DefectID, dtype: int64"
      ]
     },
     "execution_count": 40,
     "metadata": {},
     "output_type": "execute_result"
    }
   ],
   "source": [
    "#4. Counts how many defects are Open vs Closed.\n",
    "\n",
    "df4.groupby(\"Status\")[\"DefectID\"].count()"
   ]
  },
  {
   "cell_type": "code",
   "execution_count": null,
   "id": "9df0596f-3f90-4b1a-a8f2-bc6f02d3a5e6",
   "metadata": {},
   "outputs": [],
   "source": []
  }
 ],
 "metadata": {
  "kernelspec": {
   "display_name": "Python 3 (ipykernel)",
   "language": "python",
   "name": "python3"
  },
  "language_info": {
   "codemirror_mode": {
    "name": "ipython",
    "version": 3
   },
   "file_extension": ".py",
   "mimetype": "text/x-python",
   "name": "python",
   "nbconvert_exporter": "python",
   "pygments_lexer": "ipython3",
   "version": "3.13.4"
  }
 },
 "nbformat": 4,
 "nbformat_minor": 5
}
