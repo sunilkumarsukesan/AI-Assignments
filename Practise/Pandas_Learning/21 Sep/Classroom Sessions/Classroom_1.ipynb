{
 "cells": [
  {
   "cell_type": "code",
   "execution_count": 6,
   "id": "57c813df-f67d-410c-8156-1dbd209400c7",
   "metadata": {},
   "outputs": [
    {
     "name": "stdout",
     "output_type": "stream",
     "text": [
      "    0   1   2\n",
      "0  10  20  30\n",
      "1  30  40  50\n"
     ]
    }
   ],
   "source": [
    "import numpy as np\n",
    "import pandas as pd\n",
    "\n",
    "array1 = np.array([10, 20, 30])\n",
    "array2 = np.array([30, 40, 50])\n",
    "\n",
    "df = pd.DataFrame([array1,array2])\n",
    "print (df)"
   ]
  },
  {
   "cell_type": "code",
   "execution_count": 7,
   "id": "6f35668d-e4ee-45ca-9e1f-ebebcf9169a7",
   "metadata": {},
   "outputs": [
    {
     "name": "stdout",
     "output_type": "stream",
     "text": [
      "       0      1      2\n",
      "0  100.0  200.0  300.0\n",
      "1  400.0  500.0    NaN\n"
     ]
    }
   ],
   "source": [
    "series1 = pd.Series([100,200,300])\n",
    "series2 = pd.Series([400,500])\n",
    "\n",
    "df1 = pd.DataFrame([series1,series2])\n",
    "print (df1)"
   ]
  },
  {
   "cell_type": "code",
   "execution_count": 13,
   "id": "253744aa-e8a3-4a5e-adb6-fcc9ed1f6df9",
   "metadata": {},
   "outputs": [
    {
     "name": "stdout",
     "output_type": "stream",
     "text": [
      "   Mani  Alex\n",
      "0    10    20\n",
      "1    20    30\n",
      "2    30    60\n"
     ]
    }
   ],
   "source": [
    "dict_Data = {'Mani' : [10,20,30], 'Alex' : [20,30,60]}\n",
    "df2 = pd.DataFrame(dict_Data)\n",
    "print (df2)"
   ]
  },
  {
   "cell_type": "code",
   "execution_count": 15,
   "id": "0af0a370-729b-4162-91f1-fd98f31984cd",
   "metadata": {},
   "outputs": [
    {
     "name": "stdout",
     "output_type": "stream",
     "text": [
      "  TestCase   Module  Status  Duration\n",
      "0      TC1    Login  Passed        12\n",
      "1      TC2    Login  Failed        15\n",
      "2      TC3  Payment  Passed        20\n",
      "3      TC4  Payment  Failed        18\n",
      "4      TC5  Reports  Passed        25\n",
      "5      TC6  Reports  Passed        22\n"
     ]
    }
   ],
   "source": [
    "\"\"\"\n",
    "1. Creates a DataFrame:\n",
    "TestCase Module Status Duration\n",
    "TC1 Login Passed 12\n",
    "TC2 Login Failed 15\n",
    "TC3 Payment Passed 20\n",
    "TC4 Payment Failed 18\n",
    "TC5 Reports Passed 25\n",
    "TC6 Reports Passed 22\n",
    "\"\"\"\n",
    "test_cases = [\n",
    "    ['TC1', 'Login',  'Passed', 12],\n",
    "    ['TC2', 'Login',  'Failed', 15],\n",
    "    ['TC3', 'Payment','Passed', 20],\n",
    "    ['TC4', 'Payment','Failed', 18],\n",
    "    ['TC5', 'Reports','Passed', 25],\n",
    "    ['TC6', 'Reports','Passed', 22]\n",
    "]\n",
    "df3 = pd.DataFrame(test_cases, columns = ['TestCase', 'Module', 'Status', 'Duration'])\n",
    "print (df3)"
   ]
  },
  {
   "cell_type": "code",
   "execution_count": 55,
   "id": "dc2c030c-aca6-4c50-a98b-f8d034be5d45",
   "metadata": {},
   "outputs": [
    {
     "data": {
      "text/plain": [
       "Status\n",
       "Failed    2\n",
       "Passed    4\n",
       "Name: TestCase, dtype: int64"
      ]
     },
     "execution_count": 55,
     "metadata": {},
     "output_type": "execute_result"
    }
   ],
   "source": [
    "#2. Groups by Status and counts Passed vs Failed.\n",
    "\n",
    "df3.groupby('Status')['TestCase'].count()"
   ]
  },
  {
   "cell_type": "code",
   "execution_count": 43,
   "id": "8f954315-5095-4d59-a820-94b10fd4b0c0",
   "metadata": {},
   "outputs": [
    {
     "data": {
      "text/plain": [
       "Module\n",
       "Login      13.5\n",
       "Payment    19.0\n",
       "Reports    23.5\n",
       "Name: Duration, dtype: float64"
      ]
     },
     "execution_count": 43,
     "metadata": {},
     "output_type": "execute_result"
    }
   ],
   "source": [
    "#3. Groups by Module and finds average Duration per module.\n",
    "\n",
    "df3.groupby('Module') ['Duration'].mean()"
   ]
  },
  {
   "cell_type": "code",
   "execution_count": 87,
   "id": "de3a8339-aa71-496a-88c5-53e7a86aa0c6",
   "metadata": {},
   "outputs": [
    {
     "name": "stdout",
     "output_type": "stream",
     "text": [
      "  DefectID   Module Severity  Status\n",
      "0       D1    Login     High    Open\n",
      "1       D2  Payment   Medium  Closed\n",
      "2       D3  Reports      Low    Open\n",
      "3       D4    Login     High  Closed\n",
      "4       D5  Payment   Medium    Open\n"
     ]
    }
   ],
   "source": [
    "\"\"\"\n",
    "1. Creates a DataFrame with defect details:\n",
    "DefectID Module Severity Status\n",
    "D1 Login High Open\n",
    "D2 Payment Medium Closed\n",
    "D3 Reports Low Open\n",
    "D4 Login High Closed\n",
    "D5 Payment Medium Open\n",
    "\"\"\"\n",
    "defects = [\n",
    "    ['D1', 'Login',   'High',   'Open'],\n",
    "    ['D2', 'Payment', 'Medium', 'Closed'],\n",
    "    ['D3', 'Reports', 'Low',    'Open'],\n",
    "    ['D4', 'Login',   'High',   'Closed'],\n",
    "    ['D5', 'Payment', 'Medium', 'Open']\n",
    "]\n",
    "df4 = pd.DataFrame(defects, columns = ['DefectID', 'Module', 'Severity', 'Status'])\n",
    "print (df4)"
   ]
  },
  {
   "cell_type": "code",
   "execution_count": 63,
   "id": "9a1b7677-f883-4d70-bb24-7554e035a572",
   "metadata": {},
   "outputs": [
    {
     "data": {
      "text/html": [
       "<div>\n",
       "<style scoped>\n",
       "    .dataframe tbody tr th:only-of-type {\n",
       "        vertical-align: middle;\n",
       "    }\n",
       "\n",
       "    .dataframe tbody tr th {\n",
       "        vertical-align: top;\n",
       "    }\n",
       "\n",
       "    .dataframe thead th {\n",
       "        text-align: right;\n",
       "    }\n",
       "</style>\n",
       "<table border=\"1\" class=\"dataframe\">\n",
       "  <thead>\n",
       "    <tr style=\"text-align: right;\">\n",
       "      <th></th>\n",
       "      <th>DefectID</th>\n",
       "      <th>Module</th>\n",
       "      <th>Severity</th>\n",
       "      <th>Status</th>\n",
       "    </tr>\n",
       "  </thead>\n",
       "  <tbody>\n",
       "    <tr>\n",
       "      <th>0</th>\n",
       "      <td>D1</td>\n",
       "      <td>Login</td>\n",
       "      <td>High</td>\n",
       "      <td>Open</td>\n",
       "    </tr>\n",
       "    <tr>\n",
       "      <th>2</th>\n",
       "      <td>D3</td>\n",
       "      <td>Reports</td>\n",
       "      <td>Low</td>\n",
       "      <td>Open</td>\n",
       "    </tr>\n",
       "    <tr>\n",
       "      <th>4</th>\n",
       "      <td>D5</td>\n",
       "      <td>Payment</td>\n",
       "      <td>Medium</td>\n",
       "      <td>Open</td>\n",
       "    </tr>\n",
       "  </tbody>\n",
       "</table>\n",
       "</div>"
      ],
      "text/plain": [
       "  DefectID   Module Severity Status\n",
       "0       D1    Login     High   Open\n",
       "2       D3  Reports      Low   Open\n",
       "4       D5  Payment   Medium   Open"
      ]
     },
     "execution_count": 63,
     "metadata": {},
     "output_type": "execute_result"
    }
   ],
   "source": [
    "#2. Prints all Open defects.\n",
    "\n",
    "df4[df4['Status']=='Open']"
   ]
  },
  {
   "cell_type": "code",
   "execution_count": 42,
   "id": "16d893c1-e403-4997-bb0f-68f0d3e94940",
   "metadata": {},
   "outputs": [
    {
     "data": {
      "text/html": [
       "<div>\n",
       "<style scoped>\n",
       "    .dataframe tbody tr th:only-of-type {\n",
       "        vertical-align: middle;\n",
       "    }\n",
       "\n",
       "    .dataframe tbody tr th {\n",
       "        vertical-align: top;\n",
       "    }\n",
       "\n",
       "    .dataframe thead th {\n",
       "        text-align: right;\n",
       "    }\n",
       "</style>\n",
       "<table border=\"1\" class=\"dataframe\">\n",
       "  <thead>\n",
       "    <tr style=\"text-align: right;\">\n",
       "      <th></th>\n",
       "      <th>DefectID</th>\n",
       "      <th>Module</th>\n",
       "      <th>Severity</th>\n",
       "      <th>Status</th>\n",
       "    </tr>\n",
       "  </thead>\n",
       "  <tbody>\n",
       "    <tr>\n",
       "      <th>0</th>\n",
       "      <td>D1</td>\n",
       "      <td>Login</td>\n",
       "      <td>High</td>\n",
       "      <td>Open</td>\n",
       "    </tr>\n",
       "    <tr>\n",
       "      <th>3</th>\n",
       "      <td>D4</td>\n",
       "      <td>Login</td>\n",
       "      <td>High</td>\n",
       "      <td>Closed</td>\n",
       "    </tr>\n",
       "  </tbody>\n",
       "</table>\n",
       "</div>"
      ],
      "text/plain": [
       "  DefectID Module Severity  Status\n",
       "0       D1  Login     High    Open\n",
       "3       D4  Login     High  Closed"
      ]
     },
     "execution_count": 42,
     "metadata": {},
     "output_type": "execute_result"
    }
   ],
   "source": [
    "#3. Prints all High severity defects.\n",
    "\n",
    "df4[df4['Severity']=='High']"
   ]
  },
  {
   "cell_type": "code",
   "execution_count": 83,
   "id": "9b1f061d-56ec-41cc-91a1-692fed1cd1a7",
   "metadata": {},
   "outputs": [
    {
     "data": {
      "text/plain": [
       "Status\n",
       "Closed    2\n",
       "Open      3\n",
       "Name: Status, dtype: int64"
      ]
     },
     "execution_count": 83,
     "metadata": {},
     "output_type": "execute_result"
    }
   ],
   "source": [
    "#4. Counts how many defects are Open vs Closed.\n",
    "\n",
    "df4.groupby(\"Status\")['Status'].count()"
   ]
  },
  {
   "cell_type": "code",
   "execution_count": 88,
   "id": "b91c8a70-fd5d-4077-947c-f07719fac25e",
   "metadata": {},
   "outputs": [
    {
     "data": {
      "text/html": [
       "<div>\n",
       "<style scoped>\n",
       "    .dataframe tbody tr th:only-of-type {\n",
       "        vertical-align: middle;\n",
       "    }\n",
       "\n",
       "    .dataframe tbody tr th {\n",
       "        vertical-align: top;\n",
       "    }\n",
       "\n",
       "    .dataframe thead th {\n",
       "        text-align: right;\n",
       "    }\n",
       "</style>\n",
       "<table border=\"1\" class=\"dataframe\">\n",
       "  <thead>\n",
       "    <tr style=\"text-align: right;\">\n",
       "      <th></th>\n",
       "      <th>DefectID</th>\n",
       "      <th>Module</th>\n",
       "      <th>Severity</th>\n",
       "      <th>Status</th>\n",
       "    </tr>\n",
       "  </thead>\n",
       "  <tbody>\n",
       "    <tr>\n",
       "      <th>0</th>\n",
       "      <td>D1</td>\n",
       "      <td>Login</td>\n",
       "      <td>High</td>\n",
       "      <td>Open</td>\n",
       "    </tr>\n",
       "    <tr>\n",
       "      <th>1</th>\n",
       "      <td>D2</td>\n",
       "      <td>Payment</td>\n",
       "      <td>Medium</td>\n",
       "      <td>Closed</td>\n",
       "    </tr>\n",
       "    <tr>\n",
       "      <th>2</th>\n",
       "      <td>D3</td>\n",
       "      <td>Reports</td>\n",
       "      <td>Low</td>\n",
       "      <td>Open</td>\n",
       "    </tr>\n",
       "    <tr>\n",
       "      <th>3</th>\n",
       "      <td>D4</td>\n",
       "      <td>Login</td>\n",
       "      <td>High</td>\n",
       "      <td>Closed</td>\n",
       "    </tr>\n",
       "    <tr>\n",
       "      <th>4</th>\n",
       "      <td>D5</td>\n",
       "      <td>Payment</td>\n",
       "      <td>Medium</td>\n",
       "      <td>Open</td>\n",
       "    </tr>\n",
       "  </tbody>\n",
       "</table>\n",
       "</div>"
      ],
      "text/plain": [
       "  DefectID   Module Severity  Status\n",
       "0       D1    Login     High    Open\n",
       "1       D2  Payment   Medium  Closed\n",
       "2       D3  Reports      Low    Open\n",
       "3       D4    Login     High  Closed\n",
       "4       D5  Payment   Medium    Open"
      ]
     },
     "execution_count": 88,
     "metadata": {},
     "output_type": "execute_result"
    }
   ],
   "source": [
    "df4"
   ]
  },
  {
   "cell_type": "code",
   "execution_count": 90,
   "id": "402364d3-cfeb-4da5-b6d6-0c88cba1b8b0",
   "metadata": {},
   "outputs": [],
   "source": [
    "df4.to_csv('test.csv',index=False)"
   ]
  },
  {
   "cell_type": "code",
   "execution_count": 105,
   "id": "399b2d9a-1f72-47e0-83dc-098ee3377ba8",
   "metadata": {},
   "outputs": [],
   "source": [
    "pd.DataFrame([['D6', 'Login',   'High',   'Open']]).to_csv('test.csv', mode = 'a', header = False, index=False)"
   ]
  },
  {
   "cell_type": "code",
   "execution_count": 106,
   "id": "355f2a6a-e3c5-4e5f-9968-e931d814942e",
   "metadata": {},
   "outputs": [
    {
     "data": {
      "text/html": [
       "<div>\n",
       "<style scoped>\n",
       "    .dataframe tbody tr th:only-of-type {\n",
       "        vertical-align: middle;\n",
       "    }\n",
       "\n",
       "    .dataframe tbody tr th {\n",
       "        vertical-align: top;\n",
       "    }\n",
       "\n",
       "    .dataframe thead th {\n",
       "        text-align: right;\n",
       "    }\n",
       "</style>\n",
       "<table border=\"1\" class=\"dataframe\">\n",
       "  <thead>\n",
       "    <tr style=\"text-align: right;\">\n",
       "      <th></th>\n",
       "      <th>DefectID</th>\n",
       "      <th>Module</th>\n",
       "      <th>Severity</th>\n",
       "      <th>Status</th>\n",
       "    </tr>\n",
       "  </thead>\n",
       "  <tbody>\n",
       "    <tr>\n",
       "      <th>0</th>\n",
       "      <td>D1</td>\n",
       "      <td>Login</td>\n",
       "      <td>High</td>\n",
       "      <td>Open</td>\n",
       "    </tr>\n",
       "    <tr>\n",
       "      <th>1</th>\n",
       "      <td>D2</td>\n",
       "      <td>Payment</td>\n",
       "      <td>Medium</td>\n",
       "      <td>Closed</td>\n",
       "    </tr>\n",
       "    <tr>\n",
       "      <th>2</th>\n",
       "      <td>D3</td>\n",
       "      <td>Reports</td>\n",
       "      <td>Low</td>\n",
       "      <td>Open</td>\n",
       "    </tr>\n",
       "    <tr>\n",
       "      <th>3</th>\n",
       "      <td>D4</td>\n",
       "      <td>Login</td>\n",
       "      <td>High</td>\n",
       "      <td>Closed</td>\n",
       "    </tr>\n",
       "    <tr>\n",
       "      <th>4</th>\n",
       "      <td>D5</td>\n",
       "      <td>Payment</td>\n",
       "      <td>Medium</td>\n",
       "      <td>Open</td>\n",
       "    </tr>\n",
       "    <tr>\n",
       "      <th>5</th>\n",
       "      <td>D6</td>\n",
       "      <td>Login</td>\n",
       "      <td>High</td>\n",
       "      <td>Open</td>\n",
       "    </tr>\n",
       "  </tbody>\n",
       "</table>\n",
       "</div>"
      ],
      "text/plain": [
       "  DefectID   Module Severity  Status\n",
       "0       D1    Login     High    Open\n",
       "1       D2  Payment   Medium  Closed\n",
       "2       D3  Reports      Low    Open\n",
       "3       D4    Login     High  Closed\n",
       "4       D5  Payment   Medium    Open\n",
       "5       D6    Login     High    Open"
      ]
     },
     "execution_count": 106,
     "metadata": {},
     "output_type": "execute_result"
    }
   ],
   "source": [
    "pd.read_csv('test.csv')"
   ]
  },
  {
   "cell_type": "code",
   "execution_count": 125,
   "id": "6c592cf2-b905-44bb-bb91-42ba567ae9b6",
   "metadata": {},
   "outputs": [],
   "source": [
    "\"\"\"\n",
    "1. Creates a DataFrame with the following data:\n",
    "TestCase Status Duration\n",
    "TC1 Passed 12\n",
    "TC2 Failed 15\n",
    "TC3 Passed 20\n",
    "TC4 Failed 18\n",
    "TC5 Passed 25\n",
    "\"\"\"\n",
    "tests = [\n",
    "    ['TC1' , 'Passed' , 12],\n",
    "    ['TC2' ,'Failed', 15],\n",
    "    ['TC3','Passed', 20],\n",
    "    ['TC4', 'Failed' ,18],\n",
    "    ['TC5' ,'Passed', 25]\n",
    "] \n",
    "df5 = pd.DataFrame(tests, columns = [ 'TestCase', 'Status', 'Duration'])"
   ]
  },
  {
   "cell_type": "code",
   "execution_count": 124,
   "id": "d8990356-6bdc-4c28-b941-5f2377aa05d1",
   "metadata": {},
   "outputs": [
    {
     "name": "stdout",
     "output_type": "stream",
     "text": [
      "  TestCase  Status  Duration\n",
      "0      TC1  Passed        12\n",
      "1      TC2  Failed        15\n",
      "2      TC3  Passed        20\n",
      "3      TC4  Failed        18\n",
      "4      TC5  Passed        25\n"
     ]
    }
   ],
   "source": [
    "#Prints the DataFrame.\n",
    "print(df5)"
   ]
  },
  {
   "cell_type": "code",
   "execution_count": 123,
   "id": "c1375825-6cc7-461c-8756-9b8792700590",
   "metadata": {},
   "outputs": [
    {
     "data": {
      "text/plain": [
       "0    Passed\n",
       "1    Failed\n",
       "2    Passed\n",
       "3    Failed\n",
       "4    Passed\n",
       "Name: Status, dtype: object"
      ]
     },
     "execution_count": 123,
     "metadata": {},
     "output_type": "execute_result"
    }
   ],
   "source": [
    "#3. Selects and prints only the Status column.\n",
    "\n",
    "df5['Status']"
   ]
  },
  {
   "cell_type": "code",
   "execution_count": 122,
   "id": "45066795-f943-436c-ac02-e162e5b57ee7",
   "metadata": {},
   "outputs": [
    {
     "data": {
      "text/html": [
       "<div>\n",
       "<style scoped>\n",
       "    .dataframe tbody tr th:only-of-type {\n",
       "        vertical-align: middle;\n",
       "    }\n",
       "\n",
       "    .dataframe tbody tr th {\n",
       "        vertical-align: top;\n",
       "    }\n",
       "\n",
       "    .dataframe thead th {\n",
       "        text-align: right;\n",
       "    }\n",
       "</style>\n",
       "<table border=\"1\" class=\"dataframe\">\n",
       "  <thead>\n",
       "    <tr style=\"text-align: right;\">\n",
       "      <th></th>\n",
       "      <th>TestCase</th>\n",
       "      <th>Status</th>\n",
       "      <th>Duration</th>\n",
       "    </tr>\n",
       "  </thead>\n",
       "  <tbody>\n",
       "    <tr>\n",
       "      <th>1</th>\n",
       "      <td>TC2</td>\n",
       "      <td>Failed</td>\n",
       "      <td>15</td>\n",
       "    </tr>\n",
       "    <tr>\n",
       "      <th>3</th>\n",
       "      <td>TC4</td>\n",
       "      <td>Failed</td>\n",
       "      <td>18</td>\n",
       "    </tr>\n",
       "  </tbody>\n",
       "</table>\n",
       "</div>"
      ],
      "text/plain": [
       "  TestCase  Status  Duration\n",
       "1      TC2  Failed        15\n",
       "3      TC4  Failed        18"
      ]
     },
     "execution_count": 122,
     "metadata": {},
     "output_type": "execute_result"
    }
   ],
   "source": [
    "#4. Filters and prints only Failed test cases.\n",
    "\n",
    "df5[df5['Status']=='Failed']"
   ]
  },
  {
   "cell_type": "code",
   "execution_count": 118,
   "id": "326c8ec0-a466-40ac-8293-414c5b486be0",
   "metadata": {},
   "outputs": [],
   "source": [
    "#5. Saves the DataFrame as test_results.csv.\n",
    "\n",
    "df5.to_csv('Tests.csv', index = False)"
   ]
  },
  {
   "cell_type": "code",
   "execution_count": 148,
   "id": "21811db1-ee40-4e47-ab8e-536f4efb136e",
   "metadata": {},
   "outputs": [
    {
     "name": "stdout",
     "output_type": "stream",
     "text": [
      "  TestCase  Status  Duration\n",
      "0      TC1  Passed        12\n",
      "1      TC2  Failed        15\n",
      "2      TC3  Passed        20\n",
      "3      TC4  Failed        18\n",
      "4      TC5  Passed        25\n"
     ]
    }
   ],
   "source": [
    "#6. Reads back the CSV into a new DataFrame.\n",
    "\n",
    "new_df = pd.read_csv('Tests.csv')\n",
    "print(new_df)"
   ]
  },
  {
   "cell_type": "code",
   "execution_count": 149,
   "id": "5ed04fde-6201-4f7f-b81c-cee8b053ee23",
   "metadata": {},
   "outputs": [
    {
     "name": "stdout",
     "output_type": "stream",
     "text": [
      "Help on method insert in module pandas.core.frame:\n",
      "\n",
      "insert(\n",
      "    loc: 'int',\n",
      "    column: 'Hashable',\n",
      "    value: 'Scalar | AnyArrayLike',\n",
      "    allow_duplicates: 'bool | lib.NoDefault' = <no_default>\n",
      ") -> 'None' method of pandas.core.frame.DataFrame instance\n",
      "    Insert column into DataFrame at specified location.\n",
      "\n",
      "    Raises a ValueError if `column` is already contained in the DataFrame,\n",
      "    unless `allow_duplicates` is set to True.\n",
      "\n",
      "    Parameters\n",
      "    ----------\n",
      "    loc : int\n",
      "        Insertion index. Must verify 0 <= loc <= len(columns).\n",
      "    column : str, number, or hashable object\n",
      "        Label of the inserted column.\n",
      "    value : Scalar, Series, or array-like\n",
      "        Content of the inserted column.\n",
      "    allow_duplicates : bool, optional, default lib.no_default\n",
      "        Allow duplicate column labels to be created.\n",
      "\n",
      "    See Also\n",
      "    --------\n",
      "    Index.insert : Insert new item by index.\n",
      "\n",
      "    Examples\n",
      "    --------\n",
      "    >>> df = pd.DataFrame({'col1': [1, 2], 'col2': [3, 4]})\n",
      "    >>> df\n",
      "       col1  col2\n",
      "    0     1     3\n",
      "    1     2     4\n",
      "    >>> df.insert(1, \"newcol\", [99, 99])\n",
      "    >>> df\n",
      "       col1  newcol  col2\n",
      "    0     1      99     3\n",
      "    1     2      99     4\n",
      "    >>> df.insert(0, \"col1\", [100, 100], allow_duplicates=True)\n",
      "    >>> df\n",
      "       col1  col1  newcol  col2\n",
      "    0   100     1      99     3\n",
      "    1   100     2      99     4\n",
      "\n",
      "    Notice that pandas uses index alignment in case of `value` from type `Series`:\n",
      "\n",
      "    >>> df.insert(0, \"col0\", pd.Series([5, 6], index=[1, 2]))\n",
      "    >>> df\n",
      "       col0  col1  col1  newcol  col2\n",
      "    0   NaN   100     1      99     3\n",
      "    1   5.0   100     2      99     4\n",
      "\n"
     ]
    }
   ],
   "source": [
    "help (new_df.insert)"
   ]
  },
  {
   "cell_type": "code",
   "execution_count": 152,
   "id": "91a541d3-c8b1-48c1-ab21-6ab9d172c25d",
   "metadata": {},
   "outputs": [],
   "source": [
    "new_df.loc[3] = ['D6', 'Failed', 19]"
   ]
  },
  {
   "cell_type": "code",
   "execution_count": 154,
   "id": "4adf24b7-77b3-42ba-8eb1-6af2f1859ee0",
   "metadata": {},
   "outputs": [
    {
     "data": {
      "text/html": [
       "<div>\n",
       "<style scoped>\n",
       "    .dataframe tbody tr th:only-of-type {\n",
       "        vertical-align: middle;\n",
       "    }\n",
       "\n",
       "    .dataframe tbody tr th {\n",
       "        vertical-align: top;\n",
       "    }\n",
       "\n",
       "    .dataframe thead th {\n",
       "        text-align: right;\n",
       "    }\n",
       "</style>\n",
       "<table border=\"1\" class=\"dataframe\">\n",
       "  <thead>\n",
       "    <tr style=\"text-align: right;\">\n",
       "      <th></th>\n",
       "      <th>TestCase</th>\n",
       "      <th>Status</th>\n",
       "      <th>Duration</th>\n",
       "    </tr>\n",
       "  </thead>\n",
       "  <tbody>\n",
       "    <tr>\n",
       "      <th>0</th>\n",
       "      <td>TC1</td>\n",
       "      <td>Passed</td>\n",
       "      <td>12</td>\n",
       "    </tr>\n",
       "    <tr>\n",
       "      <th>1</th>\n",
       "      <td>TC2</td>\n",
       "      <td>Failed</td>\n",
       "      <td>15</td>\n",
       "    </tr>\n",
       "    <tr>\n",
       "      <th>2</th>\n",
       "      <td>TC3</td>\n",
       "      <td>Passed</td>\n",
       "      <td>20</td>\n",
       "    </tr>\n",
       "    <tr>\n",
       "      <th>3</th>\n",
       "      <td>D6</td>\n",
       "      <td>Failed</td>\n",
       "      <td>19</td>\n",
       "    </tr>\n",
       "    <tr>\n",
       "      <th>4</th>\n",
       "      <td>TC5</td>\n",
       "      <td>Passed</td>\n",
       "      <td>25</td>\n",
       "    </tr>\n",
       "  </tbody>\n",
       "</table>\n",
       "</div>"
      ],
      "text/plain": [
       "  TestCase  Status  Duration\n",
       "0      TC1  Passed        12\n",
       "1      TC2  Failed        15\n",
       "2      TC3  Passed        20\n",
       "3       D6  Failed        19\n",
       "4      TC5  Passed        25"
      ]
     },
     "execution_count": 154,
     "metadata": {},
     "output_type": "execute_result"
    }
   ],
   "source": [
    "new_df"
   ]
  },
  {
   "cell_type": "code",
   "execution_count": null,
   "id": "85de674c-e9de-4c52-9a2b-04f896e729f3",
   "metadata": {},
   "outputs": [],
   "source": []
  }
 ],
 "metadata": {
  "kernelspec": {
   "display_name": "Python 3 (ipykernel)",
   "language": "python",
   "name": "python3"
  },
  "language_info": {
   "codemirror_mode": {
    "name": "ipython",
    "version": 3
   },
   "file_extension": ".py",
   "mimetype": "text/x-python",
   "name": "python",
   "nbconvert_exporter": "python",
   "pygments_lexer": "ipython3",
   "version": "3.13.4"
  }
 },
 "nbformat": 4,
 "nbformat_minor": 5
}
