{
 "cells": [
  {
   "cell_type": "code",
   "execution_count": 1,
   "id": "268b31d7-adf5-42aa-8e30-4790612abd54",
   "metadata": {},
   "outputs": [
    {
     "name": "stdout",
     "output_type": "stream",
     "text": [
      "   Week1  Week2  Week3  Week4  Day\n",
      "0   1000   4000   5000   6000  Mon\n",
      "1   2000   5000   6000   5000  Tue\n",
      "2   3000   2500   4500   2900  Wed\n",
      "3   5000   4500   3500   4500  Thu\n",
      "4   7000   3500   2000   3500  Fri\n",
      "5   8000   5000   6000   4500  Sat\n",
      "6   6700   5600   4800   4500  Sun\n"
     ]
    }
   ],
   "source": [
    "data = [\n",
    "    [1000, 4000, 5000, 6000, \"Mon\"],\n",
    "    [2000, 5000, 6000, 5000, \"Tue\"],\n",
    "    [3000, 2500, 4500, 2900, \"Wed\"],\n",
    "    [5000, 4500, 3500, 4500, \"Thu\"],\n",
    "    [7000, 3500, 2000, 3500, \"Fri\"],\n",
    "    [8000, 5000, 6000, 4500, \"Sat\"],\n",
    "    [6700, 5600, 4800, 4500, \"Sun\"]\n",
    "]\n",
    "\n",
    "\n",
    "import pandas as pd\n",
    "\n",
    "columns = [\"Week1\", \"Week2\", \"Week3\", \"Week4\", \"Day\"]\n",
    "df = pd.DataFrame(data, columns=columns)\n",
    "print(df)\n"
   ]
  },
  {
   "cell_type": "code",
   "execution_count": 19,
   "id": "f2ca2f4e-4770-4f72-8d5e-415616cf6465",
   "metadata": {},
   "outputs": [
    {
     "name": "stdout",
     "output_type": "stream",
     "text": [
      "Press 1 for Line Chart\n",
      "Press 2 for Bar Chart\n",
      "Press 3 for Area Chart\n"
     ]
    },
    {
     "name": "stdin",
     "output_type": "stream",
     "text": [
      "Enter Option:  4\n"
     ]
    },
    {
     "data": {
      "image/png": "[encoded data removed]",
      "text/plain": [
       "<Figure size 640x480 with 1 Axes>"
      ]
     },
     "metadata": {},
     "output_type": "display_data"
    }
   ],
   "source": [
    "import matplotlib.pyplot as plt\n",
    "\n",
    "print(\"Press 1 for Line Chart\")\n",
    "print(\"Press 2 for Bar Chart\")\n",
    "print(\"Press 3 for Area Chart\")\n",
    "\n",
    "a = int(input(\"Enter Option: \"))\n",
    "\n",
    "if a == 1:\n",
    "    # Line chart for each week\n",
    "    df.plot(\n",
    "        kind=\"line\", \n",
    "        x=\"Day\", \n",
    "        y=[\"Week1\",\"Week2\",\"Week3\",\"Week4\"], \n",
    "        color=['red','blue','brown','green'],\n",
    "        marker=\"*\", markersize=10, linewidth=2, linestyle=\"--\", \n",
    "        title=\"Car Sales Report - Line Chart\"\n",
    "    )\n",
    "    plt.show()\n",
    "\n",
    "elif a == 2:\n",
    "    # Bar chart with Days on X-axis\n",
    "    df.plot(\n",
    "        kind=\"bar\", \n",
    "        x=\"Day\", \n",
    "        y=[\"Week1\",\"Week2\",\"Week3\",\"Week4\"],\n",
    "        title=\"Car Sales Report - Bar Chart\",\n",
    "        color=['red','yellow','purple','blue'], \n",
    "        edgecolor=\"black\"\n",
    "    )\n",
    "    plt.show()\n",
    "\n",
    "elif a == 3:\n",
    "    df.plot(\n",
    "        kind=\"pie\", \n",
    "        y=\"Week1\",          # pick one column\n",
    "        labels=df[\"Day\"],   # labels from Day column\n",
    "        autopct=\"%1.1f%%\",  # show percentages\n",
    "        figsize=(6,6),\n",
    "        title=\"Car Sales Report - Week1\"\n",
    "    )\n",
    "    plt.show()\n",
    "\n",
    "\n",
    "elif a ==4:\n",
    "    # Create the first scatter\n",
    "    ax = df.plot(\n",
    "        kind=\"scatter\",\n",
    "        x=\"Day\",\n",
    "        y=\"Week1\",\n",
    "        color=\"red\",\n",
    "        label=\"Week1\",\n",
    "        title=\"Car Sales Report - Scatter Plot\"\n",
    "    )\n",
    "    \n",
    "    # Add Week2 scatter on the same axes\n",
    "    df.plot(\n",
    "        kind=\"scatter\",\n",
    "        x=\"Day\",\n",
    "        y=\"Week2\",\n",
    "        color=\"blue\",\n",
    "        label=\"Week2\",\n",
    "        ax=ax   # <- this keeps it on the same chart\n",
    "    )\n",
    "    plt.show()"
   ]
  },
  {
   "cell_type": "code",
   "execution_count": null,
   "id": "f052edd6-e67f-4db6-b9ab-1c3779db0baa",
   "metadata": {},
   "outputs": [],
   "source": []
  }
 ],
 "metadata": {
  "kernelspec": {
   "display_name": "Python 3 (ipykernel)",
   "language": "python",
   "name": "python3"
  },
  "language_info": {
   "codemirror_mode": {
    "name": "ipython",
    "version": 3
   },
   "file_extension": ".py",
   "mimetype": "text/x-python",
   "name": "python",
   "nbconvert_exporter": "python",
   "pygments_lexer": "ipython3",
   "version": "3.13.4"
  }
 },
 "nbformat": 4,
 "nbformat_minor": 5
}
