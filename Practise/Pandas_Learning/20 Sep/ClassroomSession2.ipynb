{
 "cells": [
  {
   "cell_type": "code",
   "execution_count": 2,
   "id": "b09d9b37-082d-41e3-abac-1571fee5d844",
   "metadata": {},
   "outputs": [],
   "source": [
    "import numpy as np\n",
    "import pandas as pd"
   ]
  },
  {
   "cell_type": "code",
   "execution_count": 3,
   "id": "2a99e680-01ef-4e91-a5f7-14cbaf2a2451",
   "metadata": {},
   "outputs": [
    {
     "name": "stdout",
     "output_type": "stream",
     "text": [
      "TC1    12\n",
      "TC2    15\n",
      "TC3    20\n",
      "TC4    18\n",
      "TC5    25\n",
      "TC6    30\n",
      "TC7    22\n",
      "dtype: int64\n"
     ]
    }
   ],
   "source": [
    "test_execution_times = pd.Series([12, 15, 20, 18, 25, 30, 22], index = ['TC1','TC2','TC3','TC4','TC5','TC6','TC7'])\n",
    "print(test_execution_times)"
   ]
  },
  {
   "cell_type": "code",
   "execution_count": 7,
   "id": "6297d27d-92f7-4dbb-aa20-b38c897d83c2",
   "metadata": {},
   "outputs": [
    {
     "name": "stdout",
     "output_type": "stream",
     "text": [
      "TC1    12\n",
      "TC2    15\n",
      "TC3    20\n",
      "dtype: int64\n"
     ]
    }
   ],
   "source": [
    "print(test_execution_times.head(3))"
   ]
  },
  {
   "cell_type": "code",
   "execution_count": 8,
   "id": "bea54cb8-fe96-4bb0-b08e-f260880f1e0c",
   "metadata": {},
   "outputs": [
    {
     "name": "stdout",
     "output_type": "stream",
     "text": [
      "20.285714285714285\n"
     ]
    }
   ],
   "source": [
    "print(test_execution_times.mean())"
   ]
  },
  {
   "cell_type": "code",
   "execution_count": 11,
   "id": "bca6e935-aff4-4246-a76b-e13f41a09ebc",
   "metadata": {},
   "outputs": [
    {
     "name": "stdout",
     "output_type": "stream",
     "text": [
      "15\n"
     ]
    }
   ],
   "source": [
    "print(test_execution_times.iloc[1])"
   ]
  },
  {
   "cell_type": "code",
   "execution_count": 12,
   "id": "57afc782-cb89-45db-9220-acd02e5a6bc5",
   "metadata": {},
   "outputs": [
    {
     "name": "stdout",
     "output_type": "stream",
     "text": [
      "20\n"
     ]
    }
   ],
   "source": [
    "print(test_execution_times.loc['TC3'])"
   ]
  },
  {
   "cell_type": "code",
   "execution_count": null,
   "id": "fe600152-0d5c-4868-906f-82e93ddf4576",
   "metadata": {},
   "outputs": [],
   "source": []
  }
 ],
 "metadata": {
  "kernelspec": {
   "display_name": "Python 3 (ipykernel)",
   "language": "python",
   "name": "python3"
  },
  "language_info": {
   "codemirror_mode": {
    "name": "ipython",
    "version": 3
   },
   "file_extension": ".py",
   "mimetype": "text/x-python",
   "name": "python",
   "nbconvert_exporter": "python",
   "pygments_lexer": "ipython3",
   "version": "3.13.4"
  }
 },
 "nbformat": 4,
 "nbformat_minor": 5
}
