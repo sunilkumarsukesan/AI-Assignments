{
 "cells": [
  {
   "cell_type": "code",
   "execution_count": 1,
   "id": "f0f753b1-16a8-42ad-a0d1-a1d988569050",
   "metadata": {},
   "outputs": [
    {
     "name": "stdout",
     "output_type": "stream",
     "text": [
      "0    44\n",
      "1    55\n",
      "2    66\n",
      "dtype: int64\n"
     ]
    }
   ],
   "source": [
    "#Creating a series using Pandas - scalar values\n",
    "\n",
    "import numpy as np\n",
    "import pandas as pd\n",
    "\n",
    "a = [44, 55, 66]\n",
    "srs = pd.Series(a)\n",
    "print(srs)"
   ]
  },
  {
   "cell_type": "code",
   "execution_count": 2,
   "id": "c5a01c2a-321f-472e-8ac1-1b874918b92e",
   "metadata": {},
   "outputs": [
    {
     "name": "stdout",
     "output_type": "stream",
     "text": [
      "a    44\n",
      "b    55\n",
      "c    66\n",
      "dtype: int64\n"
     ]
    }
   ],
   "source": [
    "#Custom Index\n",
    "\n",
    "srs = pd.Series(a, index = ['a','b','c'])\n",
    "print(srs)"
   ]
  },
  {
   "cell_type": "code",
   "execution_count": 3,
   "id": "7a96a7c5-acfe-4d2f-bda4-df7b70e54d48",
   "metadata": {},
   "outputs": [
    {
     "name": "stdout",
     "output_type": "stream",
     "text": [
      "a    44.0\n",
      "b    55.0\n",
      "c    55.0\n",
      "dtype: float64\n"
     ]
    }
   ],
   "source": [
    "#Changing a value from int to float and checking the dtype\n",
    "\n",
    "a[2] = 55.0\n",
    "srs = pd.Series(a, index = ['a','b','c'])\n",
    "print(srs)\n"
   ]
  },
  {
   "cell_type": "code",
   "execution_count": 4,
   "id": "b3f06239-b5bf-4462-a4ba-e3e54e2a58d3",
   "metadata": {},
   "outputs": [
    {
     "name": "stdout",
     "output_type": "stream",
     "text": [
      "44.0\n"
     ]
    }
   ],
   "source": [
    "#indexing via custom index\n",
    "\n",
    "print(srs['a'])"
   ]
  },
  {
   "cell_type": "code",
   "execution_count": 5,
   "id": "3f5df351-fcb8-4b61-a653-5835f37ca88e",
   "metadata": {},
   "outputs": [
    {
     "name": "stdout",
     "output_type": "stream",
     "text": [
      "44.0\n"
     ]
    },
    {
     "name": "stderr",
     "output_type": "stream",
     "text": [
      "C:\\Users\\sunil\\AppData\\Local\\Temp\\ipykernel_26188\\2007203620.py:3: FutureWarning: Series.__getitem__ treating keys as positions is deprecated. In a future version, integer keys will always be treated as labels (consistent with DataFrame behavior). To access a value by position, use `ser.iloc[pos]`\n",
      "  print(srs[0])\n"
     ]
    }
   ],
   "source": [
    "#Though we use custom index, via the default index we can fetch the value however it throws a warning message\n",
    "\n",
    "print(srs[0])"
   ]
  },
  {
   "cell_type": "code",
   "execution_count": 8,
   "id": "305f7b4d-7712-484f-aaf9-cd2a6891ebe2",
   "metadata": {},
   "outputs": [
    {
     "name": "stdout",
     "output_type": "stream",
     "text": [
      "0    t\n",
      "1    e\n",
      "2    s\n",
      "3    t\n",
      "4    l\n",
      "5    e\n",
      "6    a\n",
      "7    f\n",
      "dtype: object\n"
     ]
    }
   ],
   "source": [
    "# non scalar value\n",
    "data = pd.Series(np.array([*'testleaf']))\n",
    "print(data)"
   ]
  },
  {
   "cell_type": "code",
   "execution_count": 12,
   "id": "11d10972-6862-432b-8789-fd0f4045552b",
   "metadata": {},
   "outputs": [
    {
     "name": "stdout",
     "output_type": "stream",
     "text": [
      "A    t\n",
      "B    e\n",
      "C    s\n",
      "D    t\n",
      "E    i\n",
      "F    n\n",
      "G    g\n",
      "dtype: object\n"
     ]
    }
   ],
   "source": [
    "#Custom Index\n",
    "\n",
    "word = 'testing'\n",
    "start = 65\n",
    "indx = []\n",
    "for (index,i) in enumerate(word):\n",
    "    indx.append(chr(start + index))\n",
    "srs = pd.Series(np.array(list(word)), index = indx)\n",
    "print(srs)"
   ]
  },
  {
   "cell_type": "code",
   "execution_count": 15,
   "id": "6d66047e-af69-48ad-b33f-7088c4881ebf",
   "metadata": {},
   "outputs": [
    {
     "name": "stdout",
     "output_type": "stream",
     "text": [
      "A    t\n",
      "B    e\n",
      "C    s\n",
      "D    t\n",
      "E    i\n",
      "F    n\n",
      "dtype: object\n",
      "B    e\n",
      "C    s\n",
      "D    t\n",
      "dtype: object\n"
     ]
    }
   ],
   "source": [
    "#loc and iloc\n",
    "print(srs.loc['A':'F'])\n",
    "print(srs.iloc[1:4])"
   ]
  },
  {
   "cell_type": "code",
   "execution_count": 66,
   "id": "69dffc96-023b-4f91-b571-f88e3497e286",
   "metadata": {},
   "outputs": [
    {
     "name": "stdout",
     "output_type": "stream",
     "text": [
      "Sunil    10\n",
      "Kumar    15\n",
      "Test     20\n",
      "dtype: int64\n"
     ]
    }
   ],
   "source": [
    "# Creating dataframe using dictionary\n",
    "\n",
    "employee_experience = {\"Sunil\": 10, \"Kumar\" : 15, \"Test\" : 20}\n",
    "data_dictionary = pd.Series(employee_experience)\n",
    "print(data_dictionary)"
   ]
  },
  {
   "cell_type": "code",
   "execution_count": 19,
   "id": "7dd5ab75-078b-43bc-92ec-7c9f19391f70",
   "metadata": {},
   "outputs": [
    {
     "name": "stdout",
     "output_type": "stream",
     "text": [
      "0     100\n",
      "1     101\n",
      "2     102\n",
      "3     103\n",
      "4     104\n",
      "5     105\n",
      "6     106\n",
      "7     107\n",
      "8     108\n",
      "9     109\n",
      "10    110\n",
      "11    111\n",
      "12    112\n",
      "13    113\n",
      "14    114\n",
      "15    115\n",
      "16    116\n",
      "17    117\n",
      "18    118\n",
      "19    119\n",
      "20    120\n",
      "21    121\n",
      "22    122\n",
      "23    123\n",
      "24    124\n",
      "25    125\n",
      "26    126\n",
      "27    127\n",
      "28    128\n",
      "29    129\n",
      "30    130\n",
      "31    131\n",
      "32    132\n",
      "33    133\n",
      "34    134\n",
      "35    135\n",
      "36    136\n",
      "37    137\n",
      "38    138\n",
      "39    139\n",
      "40    140\n",
      "41    141\n",
      "42    142\n",
      "43    143\n",
      "44    144\n",
      "45    145\n",
      "46    146\n",
      "47    147\n",
      "48    148\n",
      "49    149\n",
      "dtype: int64\n"
     ]
    }
   ],
   "source": [
    "data1 = pd.Series(np.array(range(100,150)))\n",
    "print(data1)"
   ]
  },
  {
   "cell_type": "code",
   "execution_count": 70,
   "id": "0668e918-ac77-415f-ae15-4dd176f13712",
   "metadata": {},
   "outputs": [
    {
     "name": "stdout",
     "output_type": "stream",
     "text": [
      "0    100\n",
      "1    101\n",
      "2    102\n",
      "3    103\n",
      "4    104\n",
      "dtype: int64\n"
     ]
    }
   ],
   "source": [
    "print(data1.head())"
   ]
  },
  {
   "cell_type": "code",
   "execution_count": 75,
   "id": "858b1480-ec72-432e-a86d-7a03e3de2e00",
   "metadata": {},
   "outputs": [
    {
     "name": "stdout",
     "output_type": "stream",
     "text": [
      "0     100\n",
      "1     101\n",
      "2     102\n",
      "3     103\n",
      "4     104\n",
      "5     105\n",
      "6     106\n",
      "7     107\n",
      "8     108\n",
      "9     109\n",
      "10    110\n",
      "11    111\n",
      "12    112\n",
      "13    113\n",
      "14    114\n",
      "15    115\n",
      "16    116\n",
      "17    117\n",
      "18    118\n",
      "19    119\n",
      "20    120\n",
      "21    121\n",
      "22    122\n",
      "23    123\n",
      "24    124\n",
      "25    125\n",
      "26    126\n",
      "27    127\n",
      "28    128\n",
      "29    129\n",
      "30    130\n",
      "31    131\n",
      "32    132\n",
      "33    133\n",
      "34    134\n",
      "35    135\n",
      "36    136\n",
      "37    137\n",
      "38    138\n",
      "39    139\n",
      "40    140\n",
      "41    141\n",
      "42    142\n",
      "43    143\n",
      "44    144\n",
      "45    145\n",
      "dtype: int64\n"
     ]
    }
   ],
   "source": [
    "print(data1.head(-4))"
   ]
  },
  {
   "cell_type": "code",
   "execution_count": 76,
   "id": "cc9f83ea-c73d-400a-9147-9a33532175f6",
   "metadata": {},
   "outputs": [
    {
     "name": "stdout",
     "output_type": "stream",
     "text": [
      "45    145\n",
      "46    146\n",
      "47    147\n",
      "48    148\n",
      "49    149\n",
      "dtype: int64\n"
     ]
    }
   ],
   "source": [
    "print(data1.tail())"
   ]
  },
  {
   "cell_type": "code",
   "execution_count": 20,
   "id": "62fbceb3-252d-4f37-ba55-1f9aab0217a7",
   "metadata": {},
   "outputs": [
    {
     "name": "stdout",
     "output_type": "stream",
     "text": [
      "<class 'pandas.core.series.Series'>\n",
      "RangeIndex: 50 entries, 0 to 49\n",
      "Series name: None\n",
      "Non-Null Count  Dtype\n",
      "--------------  -----\n",
      "50 non-null     int64\n",
      "dtypes: int64(1)\n",
      "memory usage: 532.0 bytes\n"
     ]
    }
   ],
   "source": [
    "data1.iloc[49] = None\n",
    "data1.info()"
   ]
  },
  {
   "cell_type": "code",
   "execution_count": 78,
   "id": "90218080-d821-4227-a83b-bfe9a59def64",
   "metadata": {},
   "outputs": [
    {
     "data": {
      "text/plain": [
       "count     50.00000\n",
       "mean     124.50000\n",
       "std       14.57738\n",
       "min      100.00000\n",
       "25%      112.25000\n",
       "50%      124.50000\n",
       "75%      136.75000\n",
       "max      149.00000\n",
       "dtype: float64"
      ]
     },
     "execution_count": 78,
     "metadata": {},
     "output_type": "execute_result"
    }
   ],
   "source": [
    "data1.describe()"
   ]
  },
  {
   "cell_type": "code",
   "execution_count": 81,
   "id": "cff585ff-2409-481a-9e00-951e1c57c175",
   "metadata": {},
   "outputs": [
    {
     "name": "stdout",
     "output_type": "stream",
     "text": [
      "sum: 1\n",
      "mean: 0.2\n",
      "median: 1.0\n",
      "max: 4\n",
      "min: -5\n",
      "prod: 120\n",
      "\n",
      "Series results:\n",
      "    abs  cumsum  cumprod\n",
      "0    1       1        1\n",
      "1    2      -1       -2\n",
      "2    3       2       -6\n",
      "3    4       6      -24\n",
      "4    5       1      120\n"
     ]
    }
   ],
   "source": [
    "s = pd.Series([1, -2, 3, 4, -5])\n",
    "\n",
    "all_funcs = [\"sum\",\"mean\",\"median\",\"max\",\"min\",\"abs\",\"prod\",\"cumsum\",\"cumprod\"]\n",
    "outputs = {}\n",
    "\n",
    "for f in all_funcs:\n",
    "    result = getattr(s, f)()\n",
    "    outputs[f] = result\n",
    "\n",
    "# Display scalar values\n",
    "for k, v in outputs.items():\n",
    "    if not isinstance(v, pd.Series):\n",
    "        print(f\"{k}: {v}\")\n",
    "\n",
    "# Combine the Series results into a DataFrame for comparison\n",
    "df_series = pd.concat({k: v for k, v in outputs.items() if isinstance(v, pd.Series)}, axis=1)\n",
    "print(\"\\nSeries results:\\n\", df_series)"
   ]
  },
  {
   "cell_type": "code",
   "execution_count": 83,
   "id": "63537c41-99e2-48c0-a85a-3850d5aba94d",
   "metadata": {},
   "outputs": [
    {
     "name": "stdout",
     "output_type": "stream",
     "text": [
      "\n",
      "sort_values:\n",
      "1    1\n",
      "2    2\n",
      "4    2\n",
      "0    3\n",
      "3    3\n",
      "dtype: int64\n",
      "\n",
      "sort_index:\n",
      "0    3\n",
      "1    1\n",
      "2    2\n",
      "3    3\n",
      "4    2\n",
      "dtype: int64\n",
      "\n",
      "drop_duplicates:\n",
      "0    3\n",
      "1    1\n",
      "2    2\n",
      "dtype: int64\n"
     ]
    }
   ],
   "source": [
    "s = pd.Series([3, 1, 2, 3, 2])\n",
    "\n",
    "# Methods that don't need arguments\n",
    "funcs_no_args = [\"sort_values\", \"sort_index\", \"drop_duplicates\"]\n",
    "\n",
    "results = {f: getattr(s, f)() for f in funcs_no_args}\n",
    "for name, res in results.items():\n",
    "    print(f\"\\n{name}:\\n{res}\")"
   ]
  },
  {
   "cell_type": "code",
   "execution_count": 84,
   "id": "4f027ad0-e174-41f5-8f98-35db8bd9dbcb",
   "metadata": {},
   "outputs": [
    {
     "name": "stdout",
     "output_type": "stream",
     "text": [
      "\n",
      "unique:\n",
      "[3 1 2]\n",
      "\n",
      "nunique:\n",
      "3\n",
      "\n",
      "value_counts:\n",
      "3    3\n",
      "2    2\n",
      "1    1\n",
      "Name: count, dtype: int64\n"
     ]
    }
   ],
   "source": [
    "s = pd.Series([3, 1, 2, 3, 2, 3])\n",
    "\n",
    "# List of functions\n",
    "funcs = [\"unique\", \"nunique\", \"value_counts\"]\n",
    "\n",
    "# Call dynamically\n",
    "results = {f: getattr(s, f)() for f in funcs}\n",
    "\n",
    "# Display results\n",
    "for name, res in results.items():\n",
    "    print(f\"\\n{name}:\\n{res}\")"
   ]
  },
  {
   "cell_type": "code",
   "execution_count": 99,
   "id": "e5a5ff92-1057-42e6-ba3c-59647be4c1e0",
   "metadata": {},
   "outputs": [
    {
     "name": "stdout",
     "output_type": "stream",
     "text": [
      "add  ->\n",
      " 0    8\n",
      "1    3\n",
      "2    6\n",
      "3    9\n",
      "4    3\n",
      "5    9\n",
      "dtype: int64 \n",
      "******************************\n",
      "sub  ->\n",
      " 0   -2\n",
      "1   -1\n",
      "2   -2\n",
      "3   -3\n",
      "4    1\n",
      "5   -3\n",
      "dtype: int64 \n",
      "******************************\n",
      "mul  ->\n",
      " 0    15\n",
      "1     2\n",
      "2     8\n",
      "3    18\n",
      "4     2\n",
      "5    18\n",
      "dtype: int64 \n",
      "******************************\n",
      "div  ->\n",
      " 0    0.6\n",
      "1    0.5\n",
      "2    0.5\n",
      "3    0.5\n",
      "4    2.0\n",
      "5    0.5\n",
      "dtype: float64 \n",
      "******************************\n"
     ]
    }
   ],
   "source": [
    "s = pd.Series([3, 1, 2, 3, 2, 3])\n",
    "s1 = pd.Series([5, 2, 4, 6, 1, 6])\n",
    "\n",
    "# List of functions\n",
    "funcs = [\"add\", \"sub\", \"mul\", \"div\"]\n",
    "\n",
    "for func in funcs:\n",
    "    method  = getattr(s,func)\n",
    "    print(str(func), \" ->\\n\",method(s1), \"\\n******************************\")"
   ]
  },
  {
   "cell_type": "code",
   "execution_count": 22,
   "id": "d391c493-73c7-4108-b729-0378288560d1",
   "metadata": {},
   "outputs": [
    {
     "name": "stdout",
     "output_type": "stream",
     "text": [
      "0    20.0\n",
      "1    30.0\n",
      "2    50.0\n",
      "3    20.0\n",
      "4     NaN\n",
      "dtype: float64\n",
      "0    20.0\n",
      "1    30.0\n",
      "2    50.0\n",
      "3    20.0\n",
      "dtype: float64\n",
      "0    20.0\n",
      "1    30.0\n",
      "2    50.0\n",
      "3    20.0\n",
      "4    10.0\n",
      "dtype: float64\n"
     ]
    }
   ],
   "source": [
    "s = pd.Series([20, 30, 50, 20, None])\n",
    "print(s)\n",
    "print(s.dropna())\n",
    "print(s.fillna(10))"
   ]
  },
  {
   "cell_type": "code",
   "execution_count": null,
   "id": "3608702a-1d82-4b18-a47d-529705dd076e",
   "metadata": {},
   "outputs": [],
   "source": []
  }
 ],
 "metadata": {
  "kernelspec": {
   "display_name": "Python 3 (ipykernel)",
   "language": "python",
   "name": "python3"
  },
  "language_info": {
   "codemirror_mode": {
    "name": "ipython",
    "version": 3
   },
   "file_extension": ".py",
   "mimetype": "text/x-python",
   "name": "python",
   "nbconvert_exporter": "python",
   "pygments_lexer": "ipython3",
   "version": "3.13.4"
  }
 },
 "nbformat": 4,
 "nbformat_minor": 5
}
