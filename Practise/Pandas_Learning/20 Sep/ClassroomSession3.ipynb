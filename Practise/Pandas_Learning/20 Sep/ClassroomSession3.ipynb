{
 "cells": [
  {
   "cell_type": "code",
   "execution_count": 24,
   "id": "45c78c22-4115-4eca-a074-1e5d0904ade6",
   "metadata": {},
   "outputs": [
    {
     "name": "stdout",
     "output_type": "stream",
     "text": [
      "Mon     5\n",
      "Tue     8\n",
      "Wed     3\n",
      "Thu     6\n",
      "Fri    10\n",
      "Sat     2\n",
      "Sun     7\n",
      "dtype: int64\n"
     ]
    }
   ],
   "source": [
    "import pandas as pd\n",
    "\n",
    "\"\"\"\n",
    "1.\tCreates a Series for test pass percentage across 5 builds:\n",
    "2.\t[80, 85, 78, 90, 88]\n",
    "with labels: ['B1','B2','B3','B4','B5']\n",
    "3.\tPrints the Series.\n",
    "\"\"\"\n",
    "\n",
    "defects = pd.Series([5, 8, 3, 6, 10, 2, 7], index = ['Mon','Tue','Wed','Thu','Fri','Sat','Sun'])\n",
    "print (defects)"
   ]
  },
  {
   "cell_type": "code",
   "execution_count": 25,
   "id": "c2722d3d-230e-4747-ba97-b72766c8c855",
   "metadata": {},
   "outputs": [
    {
     "name": "stdout",
     "output_type": "stream",
     "text": [
      "10\n"
     ]
    }
   ],
   "source": [
    "#4.\tCalculates and prints the average pass rate.\n",
    "\n",
    "print (defects.max())"
   ]
  },
  {
   "cell_type": "code",
   "execution_count": 7,
   "id": "6e1b0611-928a-4526-9b6e-75bf6c4dd996",
   "metadata": {},
   "outputs": [
    {
     "name": "stdout",
     "output_type": "stream",
     "text": [
      "41\n"
     ]
    }
   ],
   "source": []
  },
  {
   "cell_type": "code",
   "execution_count": 9,
   "id": "e14f4806-267b-4678-b162-551809fe0257",
   "metadata": {},
   "outputs": [
    {
     "name": "stdout",
     "output_type": "stream",
     "text": [
      "B1    80\n",
      "B2    85\n",
      "B3    78\n",
      "B4    90\n",
      "B5    88\n",
      "dtype: int64\n"
     ]
    }
   ],
   "source": [
    "\"\"\"\n",
    "1.\tCreates a Series for test pass percentage across 5 builds:\n",
    "2.\t[80, 85, 78, 90, 88]\n",
    "with labels: ['B1','B2','B3','B4','B5']\n",
    "3.\tPrints the Series.\n",
    "\"\"\"\n",
    "\n",
    "passrate = pd.Series([80, 85, 78, 90, 88], index = ['B1','B2','B3','B4','B5'])\n",
    "print(passrate)"
   ]
  },
  {
   "cell_type": "code",
   "execution_count": 27,
   "id": "804f30da-f8d6-49c6-b330-f935e4461192",
   "metadata": {},
   "outputs": [
    {
     "name": "stdout",
     "output_type": "stream",
     "text": [
      "84.2\n"
     ]
    }
   ],
   "source": [
    "#4.\tCalculates and prints the average pass rate.\n",
    "\n",
    "print(passrate.mean())"
   ]
  },
  {
   "cell_type": "code",
   "execution_count": 28,
   "id": "297c9fe7-1d33-46c6-8d41-1db1ddfa4acb",
   "metadata": {},
   "outputs": [
    {
     "name": "stdout",
     "output_type": "stream",
     "text": [
      "B4\n"
     ]
    }
   ],
   "source": [
    "#5.\tFinds which build had the highest pass rate.\n",
    "print(passrate.idxmax())"
   ]
  },
  {
   "cell_type": "code",
   "execution_count": 29,
   "id": "45f73021-c40b-4728-90af-dce604e01503",
   "metadata": {},
   "outputs": [
    {
     "name": "stdout",
     "output_type": "stream",
     "text": [
      "88\n"
     ]
    }
   ],
   "source": [
    "#6.\tUses iloc to print pass rate of the last build.\n",
    "print(passrate.iloc[-1])"
   ]
  },
  {
   "cell_type": "code",
   "execution_count": 30,
   "id": "01616a4c-4405-4c9f-b552-064aaa84f0aa",
   "metadata": {},
   "outputs": [
    {
     "name": "stdout",
     "output_type": "stream",
     "text": [
      "78\n"
     ]
    }
   ],
   "source": [
    "#7.\tUses loc to print pass rate of Build B3.\n",
    "print(passrate.loc['B3'])"
   ]
  },
  {
   "cell_type": "code",
   "execution_count": 31,
   "id": "93831034-f5b3-480b-b701-4d39037f2469",
   "metadata": {},
   "outputs": [
    {
     "name": "stdout",
     "output_type": "stream",
     "text": [
      "B1   -4.2\n",
      "B2    0.8\n",
      "B3   -6.2\n",
      "B4    5.8\n",
      "B5    3.8\n",
      "dtype: float64\n"
     ]
    }
   ],
   "source": [
    "#8.\tNormalizes values by subtracting average from each pass rate.\n",
    "\n",
    "print(passrate.sub(passrate.mean()))"
   ]
  },
  {
   "cell_type": "code",
   "execution_count": null,
   "id": "a944fb95-fd29-4b0c-befc-3d6ca7f349b7",
   "metadata": {},
   "outputs": [],
   "source": []
  }
 ],
 "metadata": {
  "kernelspec": {
   "display_name": "Python 3 (ipykernel)",
   "language": "python",
   "name": "python3"
  },
  "language_info": {
   "codemirror_mode": {
    "name": "ipython",
    "version": 3
   },
   "file_extension": ".py",
   "mimetype": "text/x-python",
   "name": "python",
   "nbconvert_exporter": "python",
   "pygments_lexer": "ipython3",
   "version": "3.13.4"
  }
 },
 "nbformat": 4,
 "nbformat_minor": 5
}
