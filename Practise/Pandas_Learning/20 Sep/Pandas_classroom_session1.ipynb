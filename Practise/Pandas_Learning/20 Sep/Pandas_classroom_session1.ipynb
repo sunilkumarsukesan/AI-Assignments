{
 "cells": [
  {
   "cell_type": "code",
   "execution_count": 4,
   "id": "f7e18a7c-4233-4fc1-a539-e3cee80491c7",
   "metadata": {},
   "outputs": [
    {
     "name": "stdout",
     "output_type": "stream",
     "text": [
      "0    12\n",
      "1    15\n",
      "2    20\n",
      "3    18\n",
      "4    25\n",
      "5    30\n",
      "6    22\n",
      "dtype: int64\n"
     ]
    }
   ],
   "source": [
    "#Creates a Pandas Series representing test execution times: \n",
    "\n",
    "import pandas as pd\n",
    "execution_time = pd.Series([12, 15, 20, 18, 25, 30, 22])\n",
    "print(execution_time)"
   ]
  },
  {
   "cell_type": "code",
   "execution_count": 5,
   "id": "37fe99f4-f409-4521-ab19-6bb6929aacdf",
   "metadata": {},
   "outputs": [
    {
     "name": "stdout",
     "output_type": "stream",
     "text": [
      "2    20\n",
      "3    18\n",
      "4    25\n",
      "dtype: int64\n"
     ]
    }
   ],
   "source": [
    "print(execution_time[2:5])"
   ]
  },
  {
   "cell_type": "code",
   "execution_count": null,
   "id": "d8311fb8-7b30-4469-b630-3948996137e1",
   "metadata": {},
   "outputs": [
    {
     "name": "stdout",
     "output_type": "stream",
     "text": [
      "0    10\n",
      "1    20\n",
      "2    23\n",
      "3    45\n",
      "4    50\n",
      "dtype: int64\n",
      "<class 'pandas.core.series.Series'>\n"
     ]
    }
   ],
   "source": [
    "# Create with numpy array of number of defects [10,20,23,45,50] convert to series\n",
    "\n",
    "import numpy as np\n",
    "defects = np.array([10,20,23,45,50])\n",
    "defects_series = pd.Series(defects)\n",
    "print(defects_series)\n",
    "print(type(defects_series))"
   ]
  },
  {
   "cell_type": "code",
   "execution_count": 12,
   "id": "a06fb5ef-3991-438c-8198-812a462de731",
   "metadata": {},
   "outputs": [
    {
     "name": "stdout",
     "output_type": "stream",
     "text": [
      "Alex     500\n",
      "Steve    200\n",
      "Bob      300\n",
      "dtype: int64\n",
      "<class 'pandas.core.series.Series'>\n"
     ]
    }
   ],
   "source": [
    "# Creating Series using dictionary\n",
    "\n",
    "\n",
    "employee_experience = {\"Alex\": 500, \"Steve\" : 200, \"Bob\" : 300}\n",
    "data = pd.Series(employee_experience)\n",
    "print(data)\n",
    "print(type(data))"
   ]
  },
  {
   "cell_type": "code",
   "execution_count": null,
   "id": "45804417-6c1a-4d1e-88ce-0922f0c63791",
   "metadata": {},
   "outputs": [],
   "source": []
  }
 ],
 "metadata": {
  "kernelspec": {
   "display_name": "Python 3 (ipykernel)",
   "language": "python",
   "name": "python3"
  },
  "language_info": {
   "codemirror_mode": {
    "name": "ipython",
    "version": 3
   },
   "file_extension": ".py",
   "mimetype": "text/x-python",
   "name": "python",
   "nbconvert_exporter": "python",
   "pygments_lexer": "ipython3",
   "version": "3.13.4"
  }
 },
 "nbformat": 4,
 "nbformat_minor": 5
}
