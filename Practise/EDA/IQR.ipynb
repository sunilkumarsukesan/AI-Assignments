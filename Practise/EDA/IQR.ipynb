{
 "cells": [
  {
   "cell_type": "code",
   "execution_count": 2,
   "id": "c6b6aaac-5b9b-4efe-a5ba-b80d084c4e05",
   "metadata": {},
   "outputs": [
    {
     "name": "stdout",
     "output_type": "stream",
     "text": [
      "F:\\AI_ML\\Python projects\\AI Assignments\\Practise\\EDA\n"
     ]
    }
   ],
   "source": [
    "import os\n",
    "print (os.getcwd())"
   ]
  },
  {
   "cell_type": "code",
   "execution_count": 4,
   "id": "e030b72d-5c32-481f-a977-893eb5a18f28",
   "metadata": {},
   "outputs": [],
   "source": [
    "import pandas as pd\n",
    "df = pd.read_csv('../docs/SalesDataset_new.csv')"
   ]
  },
  {
   "cell_type": "code",
   "execution_count": 5,
   "id": "8fb76571-bdfd-4193-ad43-fb117273d8da",
   "metadata": {},
   "outputs": [
    {
     "data": {
      "text/html": [
       "<div>\n",
       "<style scoped>\n",
       "    .dataframe tbody tr th:only-of-type {\n",
       "        vertical-align: middle;\n",
       "    }\n",
       "\n",
       "    .dataframe tbody tr th {\n",
       "        vertical-align: top;\n",
       "    }\n",
       "\n",
       "    .dataframe thead th {\n",
       "        text-align: right;\n",
       "    }\n",
       "</style>\n",
       "<table border=\"1\" class=\"dataframe\">\n",
       "  <thead>\n",
       "    <tr style=\"text-align: right;\">\n",
       "      <th></th>\n",
       "      <th>Unnamed: 0</th>\n",
       "      <th>Date</th>\n",
       "      <th>Gender</th>\n",
       "      <th>Age</th>\n",
       "      <th>Product Category</th>\n",
       "      <th>Quantity</th>\n",
       "      <th>Price per Unit</th>\n",
       "      <th>Total Amount</th>\n",
       "    </tr>\n",
       "  </thead>\n",
       "  <tbody>\n",
       "    <tr>\n",
       "      <th>0</th>\n",
       "      <td>0</td>\n",
       "      <td>24-11-2023</td>\n",
       "      <td>Male</td>\n",
       "      <td>34</td>\n",
       "      <td>Beauty</td>\n",
       "      <td>3</td>\n",
       "      <td>50</td>\n",
       "      <td>150</td>\n",
       "    </tr>\n",
       "    <tr>\n",
       "      <th>1</th>\n",
       "      <td>1</td>\n",
       "      <td>27-02-2023</td>\n",
       "      <td>Female</td>\n",
       "      <td>26</td>\n",
       "      <td>Clothing</td>\n",
       "      <td>2</td>\n",
       "      <td>500</td>\n",
       "      <td>1000</td>\n",
       "    </tr>\n",
       "    <tr>\n",
       "      <th>2</th>\n",
       "      <td>2</td>\n",
       "      <td>13-01-2023</td>\n",
       "      <td>Male</td>\n",
       "      <td>50</td>\n",
       "      <td>Electronics</td>\n",
       "      <td>1</td>\n",
       "      <td>30</td>\n",
       "      <td>30</td>\n",
       "    </tr>\n",
       "    <tr>\n",
       "      <th>3</th>\n",
       "      <td>3</td>\n",
       "      <td>21-05-2023</td>\n",
       "      <td>Male</td>\n",
       "      <td>37</td>\n",
       "      <td>Clothing</td>\n",
       "      <td>1</td>\n",
       "      <td>500</td>\n",
       "      <td>500</td>\n",
       "    </tr>\n",
       "    <tr>\n",
       "      <th>4</th>\n",
       "      <td>4</td>\n",
       "      <td>06-05-2023</td>\n",
       "      <td>Male</td>\n",
       "      <td>30</td>\n",
       "      <td>Beauty</td>\n",
       "      <td>2</td>\n",
       "      <td>50</td>\n",
       "      <td>100</td>\n",
       "    </tr>\n",
       "  </tbody>\n",
       "</table>\n",
       "</div>"
      ],
      "text/plain": [
       "   Unnamed: 0        Date  Gender  Age Product Category  Quantity  \\\n",
       "0           0  24-11-2023    Male   34           Beauty         3   \n",
       "1           1  27-02-2023  Female   26         Clothing         2   \n",
       "2           2  13-01-2023    Male   50      Electronics         1   \n",
       "3           3  21-05-2023    Male   37         Clothing         1   \n",
       "4           4  06-05-2023    Male   30           Beauty         2   \n",
       "\n",
       "   Price per Unit  Total Amount  \n",
       "0              50           150  \n",
       "1             500          1000  \n",
       "2              30            30  \n",
       "3             500           500  \n",
       "4              50           100  "
      ]
     },
     "execution_count": 5,
     "metadata": {},
     "output_type": "execute_result"
    }
   ],
   "source": [
    "df.head()"
   ]
  },
  {
   "cell_type": "code",
   "execution_count": 13,
   "id": "d8c5ce53-8e66-4591-a55e-7d02a6616ddf",
   "metadata": {},
   "outputs": [],
   "source": [
    "Q1 = df['Total Amount'].quantile(.25)"
   ]
  },
  {
   "cell_type": "code",
   "execution_count": 14,
   "id": "22908a9c-7836-48fd-8da2-df6a22f4716a",
   "metadata": {},
   "outputs": [],
   "source": [
    "Q3 = df['Total Amount'].quantile(.75)"
   ]
  },
  {
   "cell_type": "code",
   "execution_count": 15,
   "id": "f90ed7c7-6d62-418b-aeee-3e471e904be1",
   "metadata": {},
   "outputs": [],
   "source": [
    "IQR = Q3 - Q1"
   ]
  },
  {
   "cell_type": "code",
   "execution_count": 16,
   "id": "ae5983ad-d475-40e6-b25e-d7176e312739",
   "metadata": {},
   "outputs": [],
   "source": [
    "lower_bound = Q1 - 1.5 * IQR"
   ]
  },
  {
   "cell_type": "code",
   "execution_count": 17,
   "id": "164e0a6b-8a81-4c38-997b-8e80b1099eac",
   "metadata": {},
   "outputs": [],
   "source": [
    "upper_bound = Q3 + 1.5 * IQR"
   ]
  },
  {
   "cell_type": "code",
   "execution_count": 19,
   "id": "125a08cf-76d4-4dbe-aa73-05e3966b40ca",
   "metadata": {},
   "outputs": [
    {
     "name": "stdout",
     "output_type": "stream",
     "text": [
      "-1200.0\n",
      "2160.0\n"
     ]
    }
   ],
   "source": [
    "print(lower_bound)\n",
    "print(upper_bound)"
   ]
  },
  {
   "cell_type": "code",
   "execution_count": 45,
   "id": "673fdbcb-4f0e-4201-99d1-71ea33614fbe",
   "metadata": {},
   "outputs": [],
   "source": [
    "outliers = df[(df['Total Amount'] < lower_bound) | (df['Total Amount'] > upper_bound)]\n",
    "outliers.to_csv(\"outliers.csv\", index = False)"
   ]
  },
  {
   "cell_type": "code",
   "execution_count": 40,
   "id": "6333a1dc-b036-4aaf-8b5a-497e923eb67b",
   "metadata": {},
   "outputs": [],
   "source": [
    "cleaned_df = df.drop(outliers.index)"
   ]
  },
  {
   "cell_type": "code",
   "execution_count": 43,
   "id": "612ebc68-93d5-4280-a24a-cea01c40b89c",
   "metadata": {},
   "outputs": [],
   "source": [
    "cleaned_df.to_csv(\"cleaned.csv\",index=False)"
   ]
  },
  {
   "cell_type": "code",
   "execution_count": null,
   "id": "2f265e89-aa42-46e8-a36c-bf223cae33ae",
   "metadata": {},
   "outputs": [],
   "source": []
  },
  {
   "cell_type": "code",
   "execution_count": null,
   "id": "6bc432f6-3cac-4607-97f3-63a09af943e7",
   "metadata": {},
   "outputs": [],
   "source": []
  }
 ],
 "metadata": {
  "kernelspec": {
   "display_name": "Python 3 (ipykernel)",
   "language": "python",
   "name": "python3"
  },
  "language_info": {
   "codemirror_mode": {
    "name": "ipython",
    "version": 3
   },
   "file_extension": ".py",
   "mimetype": "text/x-python",
   "name": "python",
   "nbconvert_exporter": "python",
   "pygments_lexer": "ipython3",
   "version": "3.13.4"
  }
 },
 "nbformat": 4,
 "nbformat_minor": 5
}
