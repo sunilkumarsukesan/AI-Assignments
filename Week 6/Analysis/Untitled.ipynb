{
 "cells": [
  {
   "cell_type": "code",
   "execution_count": 4,
   "id": "2da8474b-ef6b-4e27-96ed-f111b4ff16a0",
   "metadata": {},
   "outputs": [
    {
     "name": "stdout",
     "output_type": "stream",
     "text": [
      "F:\\AI_ML\\Python projects\\AI Assignments\\Week 6\\Analysis\n",
      "(187, 2)\n"
     ]
    }
   ],
   "source": [
    "import numpy as np\n",
    "import pandas as pd\n",
    "import matplotlib.pyplot as plt\n",
    "import seaborn as sns\n",
    "from sklearn.preprocessing import StandardScaler\n",
    "\n",
    "import os\n",
    "print(os.getcwd())\n",
    "df = pd.read_csv(\"../../Week 5/data/country_wise_latest.csv\")\n",
    "df = df[['Confirmed','New cases']]\n",
    "print(df.shape)"
   ]
  },
  {
   "cell_type": "code",
   "execution_count": 11,
   "id": "f9b7207f-3749-4883-8292-73ed0804e842",
   "metadata": {},
   "outputs": [
    {
     "name": "stdout",
     "output_type": "stream",
     "text": [
      "1114.0 40460.5 39346.5\n",
      "-57905.75  &  99480.25\n",
      "     Confirmed  New cases\n",
      "6       167416       4890\n",
      "13      226225       2772\n",
      "23     2442375      23284\n",
      "32      116458        682\n",
      "35      347923       2133\n",
      "37      257101      16306\n",
      "61      220352       2551\n",
      "65      207112        445\n",
      "79     1480073      44457\n",
      "80      100303       1525\n",
      "81      293606       2434\n",
      "82      112585       2553\n",
      "85      246286        168\n",
      "111     395489       4973\n",
      "128     274289       1176\n",
      "132     389717      13756\n",
      "136     109597        292\n",
      "138     816680       5607\n",
      "145     268934       1993\n",
      "154     452529       7096\n",
      "157     272421          0\n",
      "172     227019        919\n",
      "173    4290259      56336\n",
      "177     301708        688\n"
     ]
    }
   ],
   "source": [
    "Q1 = df['Confirmed'].quantile(0.25)\n",
    "Q3 = df['Confirmed'].quantile(0.75)\n",
    "IQR = Q3 - Q1\n",
    "print(Q1, Q3, IQR)\n",
    "lower_bound = Q1 - 1.5 * IQR\n",
    "upper_bound = Q3 + 1.5 * IQR\n",
    "print(lower_bound, \" & \", upper_bound)\n",
    "outliers = df[(df['Confirmed']<lower_bound) | (df['Confirmed']>upper_bound)]\n",
    "print(outliers)"
   ]
  },
  {
   "cell_type": "code",
   "execution_count": 12,
   "id": "386c5d2a-50b2-4b7f-8475-ea2bab633c42",
   "metadata": {},
   "outputs": [
    {
     "name": "stdout",
     "output_type": "stream",
     "text": [
      "4.0 419.5 415.5\n",
      "-619.25  &  1042.75\n",
      "     Confirmed  New cases\n",
      "0        36263        106\n",
      "1         4880        117\n",
      "2        27973        616\n",
      "6       167416       4890\n",
      "7        37390         73\n",
      "..         ...        ...\n",
      "180      15988        525\n",
      "182      10621        152\n",
      "184       1691         10\n",
      "185       4552         71\n",
      "186       2704        192\n",
      "\n",
      "[142 rows x 2 columns]\n"
     ]
    }
   ],
   "source": [
    "Q1 = df['New cases'].quantile(0.25)\n",
    "Q3 = df['New cases'].quantile(0.75)\n",
    "IQR = Q3 - Q1\n",
    "print(Q1, Q3, IQR)\n",
    "lower_bound = Q1 - 1.5 * IQR\n",
    "upper_bound = Q3 + 1.5 * IQR\n",
    "print(lower_bound, \" & \", upper_bound)\n",
    "outliers = df[(df['Confirmed']<lower_bound) | (df['Confirmed']>upper_bound)]\n",
    "print(outliers)"
   ]
  },
  {
   "cell_type": "code",
   "execution_count": null,
   "id": "91982750-8768-41e7-a609-c0e019e68cfa",
   "metadata": {},
   "outputs": [],
   "source": []
  }
 ],
 "metadata": {
  "kernelspec": {
   "display_name": "Python 3 (ipykernel)",
   "language": "python",
   "name": "python3"
  },
  "language_info": {
   "codemirror_mode": {
    "name": "ipython",
    "version": 3
   },
   "file_extension": ".py",
   "mimetype": "text/x-python",
   "name": "python",
   "nbconvert_exporter": "python",
   "pygments_lexer": "ipython3",
   "version": "3.13.4"
  }
 },
 "nbformat": 4,
 "nbformat_minor": 5
}
